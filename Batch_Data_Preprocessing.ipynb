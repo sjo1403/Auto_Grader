{
 "cells": [
  {
   "cell_type": "code",
   "execution_count": 3,
   "id": "9248e207-ca2c-4d24-be14-bf7f3c1ee0eb",
   "metadata": {
    "tags": []
   },
   "outputs": [],
   "source": [
    "import pandas\n",
    "from nltk.tokenize import sent_tokenize, word_tokenize\n",
    "from nltk.corpus import stopwords\n",
    "#nltk.download()\n",
    "from spellchecker import SpellChecker\n",
    "\n",
    "read_file = pandas.read_csv('Dataset/training_set.csv', sep='\\t', usecols=[0, 1, 2], skiprows=[0])\n",
    "    \n",
    "for row in read_file.itertuples():\n",
    "    essay_id = row[1]\n",
    "    text = row[2]\n",
    "    score = row[3]\n",
    "\n",
    "    sentences = sent_tokenize(text)\n",
    "    words = word_tokenize(text)\n",
    "\n",
    "    spell = SpellChecker()\n",
    "    misspelled = spell.unknown(words)\n",
    "\n",
    "    ###FEATURE 1: MISSPELLED WORDS###\n",
    "    num_misspelled = len(misspelled)\n",
    "\n",
    "    stops = set(stopwords.words('english'))\n",
    "\n",
    "    filtered_words = []\n",
    "\n",
    "    for w in words:\n",
    "        if w in misspelled:\n",
    "            continue\n",
    "\n",
    "        if w not in stops:\n",
    "            filtered_words.append(w)\n",
    "\n",
    "    ###FEATURE 2: TOTAL WORDS###\n",
    "    total_words = len(filtered_words)\n",
    "\n",
    "    ###FEATURE 3: WORDS PER SENTENCE###\n",
    "    words_per_sentence = total_words / len(sentences)\n",
    "\n",
    "    unique_words = len(set(filtered_words))\n",
    "\n",
    "    ###FEATURE 4: LEXICAL DIVERSITY###\n",
    "    lexical_diversity = unique_words / total_words\n",
    "    \n",
    "    features = {'essay id':[essay_id],\n",
    "                'misspelled words':[num_misspelled], \n",
    "                'total words':[total_words], \n",
    "                'words per sentence':[words_per_sentence], \n",
    "                'lexical diversity':[lexical_diversity],\n",
    "                'score':[score]}\n",
    "    \n",
    "    write_file = pandas.DataFrame(features)\n",
    "    write_file.to_csv('Dataset/training_data.csv', mode='a', header=False, encoding='utf-8')"
   ]
  },
  {
   "cell_type": "code",
   "execution_count": null,
   "id": "f9483f88-c052-42fc-978c-89d88da7e8fb",
   "metadata": {},
   "outputs": [],
   "source": []
  }
 ],
 "metadata": {
  "kernelspec": {
   "display_name": "Python [conda env:Auto_Grader_env] *",
   "language": "python",
   "name": "conda-env-Auto_Grader_env-py"
  },
  "language_info": {
   "codemirror_mode": {
    "name": "ipython",
    "version": 3
   },
   "file_extension": ".py",
   "mimetype": "text/x-python",
   "name": "python",
   "nbconvert_exporter": "python",
   "pygments_lexer": "ipython3",
   "version": "3.9.7"
  }
 },
 "nbformat": 4,
 "nbformat_minor": 5
}
