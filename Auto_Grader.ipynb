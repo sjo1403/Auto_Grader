{
 "cells": [
  {
   "cell_type": "code",
   "execution_count": 1,
   "id": "6475b32c-eeb4-460b-8e58-4f0d265d4706",
   "metadata": {
    "tags": []
   },
   "outputs": [],
   "source": [
    "import pandas\n",
    "import numpy as np\n",
    "import matplotlib.pyplot as plt\n",
    "plt.style.use('ggplot')"
   ]
  },
  {
   "cell_type": "code",
   "execution_count": 2,
   "id": "bfee8fc7-fff6-47fd-a0f7-f74ad0c172e0",
   "metadata": {
    "tags": []
   },
   "outputs": [
    {
     "data": {
      "text/html": [
       "<div>\n",
       "<style scoped>\n",
       "    .dataframe tbody tr th:only-of-type {\n",
       "        vertical-align: middle;\n",
       "    }\n",
       "\n",
       "    .dataframe tbody tr th {\n",
       "        vertical-align: top;\n",
       "    }\n",
       "\n",
       "    .dataframe thead th {\n",
       "        text-align: right;\n",
       "    }\n",
       "</style>\n",
       "<table border=\"1\" class=\"dataframe\">\n",
       "  <thead>\n",
       "    <tr style=\"text-align: right;\">\n",
       "      <th></th>\n",
       "      <th>essay id</th>\n",
       "      <th>misspelled words</th>\n",
       "      <th>words</th>\n",
       "      <th>words per sentence</th>\n",
       "      <th>lexical diversity</th>\n",
       "      <th>raw score</th>\n",
       "      <th>normalized score</th>\n",
       "    </tr>\n",
       "  </thead>\n",
       "  <tbody>\n",
       "    <tr>\n",
       "      <th>0</th>\n",
       "      <td>6079</td>\n",
       "      <td>10</td>\n",
       "      <td>94</td>\n",
       "      <td>18.800000</td>\n",
       "      <td>0.595745</td>\n",
       "      <td>3</td>\n",
       "      <td>1</td>\n",
       "    </tr>\n",
       "    <tr>\n",
       "      <th>1</th>\n",
       "      <td>6080</td>\n",
       "      <td>8</td>\n",
       "      <td>75</td>\n",
       "      <td>10.714286</td>\n",
       "      <td>0.600000</td>\n",
       "      <td>2</td>\n",
       "      <td>1</td>\n",
       "    </tr>\n",
       "    <tr>\n",
       "      <th>2</th>\n",
       "      <td>6081</td>\n",
       "      <td>1</td>\n",
       "      <td>28</td>\n",
       "      <td>7.000000</td>\n",
       "      <td>0.785714</td>\n",
       "      <td>2</td>\n",
       "      <td>1</td>\n",
       "    </tr>\n",
       "    <tr>\n",
       "      <th>3</th>\n",
       "      <td>6082</td>\n",
       "      <td>2</td>\n",
       "      <td>44</td>\n",
       "      <td>11.000000</td>\n",
       "      <td>0.681818</td>\n",
       "      <td>1</td>\n",
       "      <td>0</td>\n",
       "    </tr>\n",
       "    <tr>\n",
       "      <th>4</th>\n",
       "      <td>6083</td>\n",
       "      <td>0</td>\n",
       "      <td>21</td>\n",
       "      <td>10.500000</td>\n",
       "      <td>0.904762</td>\n",
       "      <td>1</td>\n",
       "      <td>0</td>\n",
       "    </tr>\n",
       "  </tbody>\n",
       "</table>\n",
       "</div>"
      ],
      "text/plain": [
       "   essay id  misspelled words  words  words per sentence  lexical diversity  \\\n",
       "0      6079                10     94           18.800000           0.595745   \n",
       "1      6080                 8     75           10.714286           0.600000   \n",
       "2      6081                 1     28            7.000000           0.785714   \n",
       "3      6082                 2     44           11.000000           0.681818   \n",
       "4      6083                 0     21           10.500000           0.904762   \n",
       "\n",
       "   raw score  normalized score  \n",
       "0          3                 1  \n",
       "1          2                 1  \n",
       "2          2                 1  \n",
       "3          1                 0  \n",
       "4          1                 0  "
      ]
     },
     "execution_count": 2,
     "metadata": {},
     "output_type": "execute_result"
    }
   ],
   "source": [
    "df = pandas.read_csv('Dataset/normalized_training_data.csv', sep='\\t')\n",
    "\n",
    "df.head()"
   ]
  },
  {
   "cell_type": "code",
   "execution_count": 3,
   "id": "1ba3a792-d108-4531-ad9d-49c4285194ae",
   "metadata": {
    "tags": []
   },
   "outputs": [
    {
     "data": {
      "text/plain": [
       "(2796, 7)"
      ]
     },
     "execution_count": 3,
     "metadata": {},
     "output_type": "execute_result"
    }
   ],
   "source": [
    "df.shape"
   ]
  },
  {
   "cell_type": "code",
   "execution_count": 4,
   "id": "a52104f0-f00f-47f1-ba3c-2255ce002261",
   "metadata": {
    "tags": []
   },
   "outputs": [],
   "source": [
    "X = df.drop(['essay id', 'raw score','normalized score'],axis=1).values\n",
    "y = df['normalized score'].values"
   ]
  },
  {
   "cell_type": "code",
   "execution_count": 5,
   "id": "e03ffef2-5e6e-4d95-afbe-a6dc0a20ec51",
   "metadata": {
    "tags": []
   },
   "outputs": [],
   "source": [
    "from sklearn.model_selection import train_test_split\n",
    "X_train,X_test,y_train,y_test = train_test_split(X,y,test_size=0.2,random_state=42, stratify=y)"
   ]
  },
  {
   "cell_type": "code",
   "execution_count": 6,
   "id": "a069307d-028f-45a4-adab-dda5f5bb49e2",
   "metadata": {
    "tags": []
   },
   "outputs": [],
   "source": [
    "from sklearn.neighbors import KNeighborsClassifier\n",
    "\n",
    "#Setup arrays to store training and test accuracies\n",
    "neighbors = np.arange(6,16)\n",
    "train_accuracy =np.empty(len(neighbors))\n",
    "test_accuracy = np.empty(len(neighbors))\n",
    "\n",
    "for i,k in enumerate(neighbors):\n",
    "    knn = KNeighborsClassifier(n_neighbors=k)\n",
    "    \n",
    "    #Fit the model\n",
    "    knn.fit(X_train, y_train)\n",
    "    \n",
    "    #Compute accuracy on the training set\n",
    "    train_accuracy[i] = knn.score(X_train, y_train)\n",
    "    \n",
    "    #Compute accuracy on the test set\n",
    "    test_accuracy[i] = knn.score(X_test, y_test) "
   ]
  },
  {
   "cell_type": "code",
   "execution_count": 7,
   "id": "5aee3d91-c6d8-4799-8c4c-7839c7319348",
   "metadata": {
    "tags": []
   },
   "outputs": [
    {
     "data": {
      "image/png": "[encoded data removed]",
      "text/plain": [
       "<Figure size 432x288 with 1 Axes>"
      ]
     },
     "metadata": {},
     "output_type": "display_data"
    }
   ],
   "source": [
    "#Generate plot\n",
    "plt.title('k-NN Varying number of neighbors')\n",
    "plt.plot(neighbors, test_accuracy, label='Testing Accuracy', color='Limegreen')\n",
    "plt.plot(neighbors, train_accuracy, label='Training accuracy', color='Gray')\n",
    "plt.legend()\n",
    "plt.xlabel('Number of neighbors')\n",
    "plt.ylabel('Accuracy')\n",
    "plt.show()"
   ]
  },
  {
   "cell_type": "code",
   "execution_count": 8,
   "id": "08d639b0-4588-45a0-b985-d37d4902ccda",
   "metadata": {
    "tags": []
   },
   "outputs": [],
   "source": [
    "#Setup a knn classifier with k neighbors\n",
    "knn = KNeighborsClassifier(n_neighbors=7)"
   ]
  },
  {
   "cell_type": "code",
   "execution_count": 9,
   "id": "c45ff4ce-bfe6-45eb-b484-f127a8955d23",
   "metadata": {
    "tags": []
   },
   "outputs": [
    {
     "data": {
      "text/plain": [
       "KNeighborsClassifier(n_neighbors=7)"
      ]
     },
     "execution_count": 9,
     "metadata": {},
     "output_type": "execute_result"
    }
   ],
   "source": [
    "#Fit the model\n",
    "knn.fit(X_train,y_train)"
   ]
  },
  {
   "cell_type": "code",
   "execution_count": 10,
   "id": "9e654624-0725-48c8-a23a-1361f0e85cd4",
   "metadata": {
    "tags": []
   },
   "outputs": [],
   "source": [
    "#Get accuracy\n",
    "accuracy_score = knn.score(X_test,y_test)\n",
    "inaccurate = 1 - accuracy_score"
   ]
  },
  {
   "cell_type": "code",
   "execution_count": 11,
   "id": "9ba9d856-b6e9-453c-a525-25e773ac4f4a",
   "metadata": {
    "tags": []
   },
   "outputs": [
    {
     "data": {
      "image/png": "[encoded data removed]",
      "text/plain": [
       "<Figure size 432x288 with 1 Axes>"
      ]
     },
     "metadata": {},
     "output_type": "display_data"
    }
   ],
   "source": [
    "# Pie chart, where the slices will be ordered and plotted counter-clockwise:\n",
    "labels = 'Correct', 'Incorrect'\n",
    "sizes = [accuracy_score, inaccurate]\n",
    "\n",
    "colors = ('Limegreen', 'Gray')\n",
    "explode = (0.1, 0)  # only \"explode\" the 1st slice (i.e. 'Correct')\n",
    "\n",
    "\n",
    "fig1, ax1 = plt.subplots()\n",
    "ax1.pie(sizes, explode=explode, labels=labels, autopct='%1.1f%%',\n",
    "        shadow=True, startangle=90, colors=colors)\n",
    "ax1.axis('equal')  # Equal aspect ratio ensures that pie is drawn as a circle.\n",
    "\n",
    "plt.title('Model Accuracy')\n",
    "\n",
    "plt.show()"
   ]
  },
  {
   "cell_type": "code",
   "execution_count": 12,
   "id": "dc93b998-f55c-48fc-93c2-c5464ebb63b5",
   "metadata": {
    "tags": []
   },
   "outputs": [],
   "source": [
    "#let us get the predictions using the classifier we had fit above\n",
    "y_pred = knn.predict(X_test)"
   ]
  },
  {
   "cell_type": "code",
   "execution_count": 13,
   "id": "03bf83c8-00e1-4bc5-9074-b5aad79ac33e",
   "metadata": {
    "tags": []
   },
   "outputs": [
    {
     "data": {
      "text/html": [
       "<div>\n",
       "<style scoped>\n",
       "    .dataframe tbody tr th:only-of-type {\n",
       "        vertical-align: middle;\n",
       "    }\n",
       "\n",
       "    .dataframe tbody tr th {\n",
       "        vertical-align: top;\n",
       "    }\n",
       "\n",
       "    .dataframe thead th {\n",
       "        text-align: right;\n",
       "    }\n",
       "</style>\n",
       "<table border=\"1\" class=\"dataframe\">\n",
       "  <thead>\n",
       "    <tr style=\"text-align: right;\">\n",
       "      <th>Predicted</th>\n",
       "      <th>0</th>\n",
       "      <th>1</th>\n",
       "      <th>All</th>\n",
       "    </tr>\n",
       "    <tr>\n",
       "      <th>True</th>\n",
       "      <th></th>\n",
       "      <th></th>\n",
       "      <th></th>\n",
       "    </tr>\n",
       "  </thead>\n",
       "  <tbody>\n",
       "    <tr>\n",
       "      <th>0</th>\n",
       "      <td>204</td>\n",
       "      <td>50</td>\n",
       "      <td>254</td>\n",
       "    </tr>\n",
       "    <tr>\n",
       "      <th>1</th>\n",
       "      <td>40</td>\n",
       "      <td>266</td>\n",
       "      <td>306</td>\n",
       "    </tr>\n",
       "    <tr>\n",
       "      <th>All</th>\n",
       "      <td>244</td>\n",
       "      <td>316</td>\n",
       "      <td>560</td>\n",
       "    </tr>\n",
       "  </tbody>\n",
       "</table>\n",
       "</div>"
      ],
      "text/plain": [
       "Predicted    0    1  All\n",
       "True                    \n",
       "0          204   50  254\n",
       "1           40  266  306\n",
       "All        244  316  560"
      ]
     },
     "execution_count": 13,
     "metadata": {},
     "output_type": "execute_result"
    }
   ],
   "source": [
    "pandas.crosstab(y_test, y_pred, rownames=['True'], colnames=['Predicted'], margins=True)"
   ]
  },
  {
   "cell_type": "code",
   "execution_count": 38,
   "id": "835b3fc8-1982-4af7-b63e-3659f01af4b2",
   "metadata": {},
   "outputs": [
    {
     "name": "stdin",
     "output_type": "stream",
     "text": [
      "Type OR Copy/Paste your essay in the text field. AutoGrader will score your essay and provide an analysis. Give cattle gathered green won't fly beast it were to darkness called living. Above said above saw doesn't blessed green fill him seed. Were subdue. Us sea. Grass itself. Second saying have herb, light darkness. His let forth good give years have winged.  Day the don't after face years air blessed us first and void appear Evening fruit face was very. Behold deep wherein fruit face let. Fruitful rule.  Void you'll after moveth days our, our, which fourth behold he, night i them under, moveth shall she'd replenish, it Of us morning they're. Moved whales a she'd herb day. Bearing.\n"
     ]
    }
   ],
   "source": [
    "text = input(\"Type OR Copy/Paste your essay in the text field. AutoGrader will score your essay and provide an analysis.\")"
   ]
  },
  {
   "cell_type": "code",
   "execution_count": 39,
   "id": "cdcead3e-f56a-4222-a131-02f6d1629878",
   "metadata": {
    "tags": []
   },
   "outputs": [],
   "source": [
    "from nltk.tokenize import sent_tokenize, word_tokenize\n",
    "from nltk.corpus import stopwords\n",
    "#nltk.download()\n",
    "from spellchecker import SpellChecker\n",
    "\n",
    "sentences = sent_tokenize(text)\n",
    "words = word_tokenize(text)\n",
    "\n",
    "spell = SpellChecker()\n",
    "misspelled = spell.unknown(words)\n",
    "\n",
    "###FEATURE 1: MISSPELLED WORDS###\n",
    "num_misspelled = len(misspelled)\n",
    "\n",
    "stops = set(stopwords.words('english'))\n",
    "\n",
    "filtered_words = []\n",
    "\n",
    "for w in words:\n",
    "    if w in misspelled:\n",
    "        continue\n",
    "\n",
    "    if w not in stops:\n",
    "        filtered_words.append(w)\n",
    "\n",
    "###FEATURE 2: TOTAL WORDS###\n",
    "total_words = len(filtered_words)\n",
    "\n",
    "###FEATURE 3: WORDS PER SENTENCE###\n",
    "words_per_sentence = total_words / len(sentences)\n",
    "\n",
    "unique_words = len(set(filtered_words))\n",
    "\n",
    "###FEATURE 4: LEXICAL DIVERSITY###\n",
    "lexical_diversity = unique_words / total_words\n",
    "\n",
    "features = [[num_misspelled, total_words, words_per_sentence, lexical_diversity]]"
   ]
  },
  {
   "cell_type": "code",
   "execution_count": 40,
   "id": "3ab6145c-9172-422c-aac8-47896ee62ec0",
   "metadata": {
    "tags": []
   },
   "outputs": [
    {
     "name": "stdout",
     "output_type": "stream",
     "text": [
      "Predicted Score: PASS\n"
     ]
    }
   ],
   "source": [
    "predicted_score = knn.predict(features)[0]\n",
    "score_codes = ['FAIL', 'PASS']\n",
    "\n",
    "print('Predicted Score: ' + score_codes[predicted_score])"
   ]
  },
  {
   "cell_type": "code",
   "execution_count": 41,
   "id": "c58510e8-99b6-42a2-9684-bce84472e824",
   "metadata": {
    "tags": []
   },
   "outputs": [
    {
     "data": {
      "image/png": "[encoded data removed]",
      "text/plain": [
       "<Figure size 432x288 with 1 Axes>"
      ]
     },
     "metadata": {},
     "output_type": "display_data"
    }
   ],
   "source": [
    "rslt_df = df[df['normalized score'] == predicted_score]\n",
    "\n",
    "mean_words = rslt_df['words'].mean()\n",
    "\n",
    "x_labels = ['This Essay', 'Average Essay of a Similar Score']\n",
    "word_vals = [total_words, mean_words]\n",
    "\n",
    "x_pos = [i for i, _ in enumerate(x_labels)]\n",
    "\n",
    "plt.bar(x_pos, word_vals, color=['Limegreen', 'Gray'])\n",
    "\n",
    "plt.ylabel(\"Number of Words\")\n",
    "plt.title(\"Wordcount\")\n",
    "plt.xticks(x_pos, x_labels)\n",
    "\n",
    "plt.show()"
   ]
  },
  {
   "cell_type": "code",
   "execution_count": 42,
   "id": "98fbb4b9-f16f-4ae6-930a-ea69162f1ed7",
   "metadata": {
    "tags": []
   },
   "outputs": [
    {
     "data": {
      "image/png": "[encoded data removed]",
      "text/plain": [
       "<Figure size 432x288 with 1 Axes>"
      ]
     },
     "metadata": {},
     "output_type": "display_data"
    }
   ],
   "source": [
    "rslt_df = df[df['normalized score'] == predicted_score]\n",
    "\n",
    "mean_errors = rslt_df['misspelled words'].mean()\n",
    "\n",
    "x_labels = ['This Essay', 'Average Essay of a Similar Score']\n",
    "word_vals = [num_misspelled, mean_errors]\n",
    "\n",
    "x_pos = [i for i, _ in enumerate(x_labels)]\n",
    "\n",
    "plt.bar(x_pos, word_vals, color=['Limegreen', 'Gray'])\n",
    "\n",
    "plt.ylabel(\"Number of Misspellings\")\n",
    "plt.title(\"Misspellings\")\n",
    "plt.xticks(x_pos, x_labels)\n",
    "\n",
    "plt.show()"
   ]
  },
  {
   "cell_type": "code",
   "execution_count": 43,
   "id": "760802b2-8589-4ceb-b292-315d5fb99752",
   "metadata": {
    "tags": []
   },
   "outputs": [
    {
     "data": {
      "image/png": "[encoded data removed]",
      "text/plain": [
       "<Figure size 432x288 with 1 Axes>"
      ]
     },
     "metadata": {},
     "output_type": "display_data"
    }
   ],
   "source": [
    "rslt_df = df[df['normalized score'] == predicted_score]\n",
    "\n",
    "mean_diversity = rslt_df['lexical diversity'].mean()\n",
    "\n",
    "x_labels = ['This Essay', 'Average Essay of a Similar Score']\n",
    "word_vals = [lexical_diversity, mean_diversity]\n",
    "\n",
    "x_pos = [i for i, _ in enumerate(x_labels)]\n",
    "\n",
    "plt.bar(x_pos, word_vals, color=['Limegreen', 'Gray'])\n",
    "\n",
    "plt.ylabel(\"Ratio of Unique Words\")\n",
    "plt.title(\"Lexical Diversity\")\n",
    "plt.xticks(x_pos, x_labels)\n",
    "\n",
    "plt.show()"
   ]
  },
  {
   "cell_type": "code",
   "execution_count": null,
   "id": "d0130ba8-616c-4ca0-b9bd-5d86015b9f8e",
   "metadata": {},
   "outputs": [],
   "source": []
  }
 ],
 "metadata": {
  "kernelspec": {
   "display_name": "Python [conda env:Auto_Grader_env] *",
   "language": "python",
   "name": "conda-env-Auto_Grader_env-py"
  },
  "language_info": {
   "codemirror_mode": {
    "name": "ipython",
    "version": 3
   },
   "file_extension": ".py",
   "mimetype": "text/x-python",
   "name": "python",
   "nbconvert_exporter": "python",
   "pygments_lexer": "ipython3",
   "version": "3.9.7"
  }
 },
 "nbformat": 4,
 "nbformat_minor": 5
}
