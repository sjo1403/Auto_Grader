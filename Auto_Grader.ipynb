{
 "cells": [
  {
   "cell_type": "code",
   "execution_count": 1,
   "id": "6475b32c-eeb4-460b-8e58-4f0d265d4706",
   "metadata": {
    "extensions": {
     "jupyter_dashboards": {
      "activeView": "grid_default",
      "views": {
       "grid_default": {
        "col": null,
        "height": 2,
        "hidden": true,
        "row": null,
        "width": 2
       }
      }
     }
    },
    "tags": []
   },
   "outputs": [],
   "source": [
    "import pandas\n",
    "import numpy as np\n",
    "import matplotlib.pyplot as plt\n",
    "plt.style.use('ggplot')"
   ]
  },
  {
   "cell_type": "code",
   "execution_count": 2,
   "id": "bfee8fc7-fff6-47fd-a0f7-f74ad0c172e0",
   "metadata": {
    "extensions": {
     "jupyter_dashboards": {
      "activeView": "grid_default",
      "views": {
       "grid_default": {
        "col": null,
        "height": 2,
        "hidden": true,
        "row": null,
        "width": 2
       }
      }
     }
    },
    "tags": []
   },
   "outputs": [],
   "source": [
    "df = pandas.read_csv('training_data.csv', sep='\\t')\n",
    "\n",
    "data_table = df.head()"
   ]
  },
  {
   "cell_type": "code",
   "execution_count": 3,
   "id": "1ba3a792-d108-4531-ad9d-49c4285194ae",
   "metadata": {
    "extensions": {
     "jupyter_dashboards": {
      "activeView": "grid_default",
      "views": {
       "grid_default": {
        "col": null,
        "height": 2,
        "hidden": true,
        "row": null,
        "width": 2
       }
      }
     }
    },
    "tags": []
   },
   "outputs": [],
   "source": [
    "shape = df.shape"
   ]
  },
  {
   "cell_type": "code",
   "execution_count": 4,
   "id": "58fff1c8-9de8-45ee-995d-1a5b0f1994cb",
   "metadata": {
    "extensions": {
     "jupyter_dashboards": {
      "activeView": "grid_default",
      "views": {
       "grid_default": {
        "col": null,
        "height": 2,
        "hidden": true,
        "row": null,
        "width": 2
       }
      }
     }
    }
   },
   "outputs": [],
   "source": [
    "def preprocess(data):    \n",
    "    #transform the skewed distributions (misspelled words, words, and words per sentence) into uniform distributions\n",
    "    uniform = np.log(data[['misspelled words', 'words', 'words per sentence']])\n",
    "\n",
    "    #add lexical diversity to the dataframe\n",
    "    uniform.insert(3, 'lexical diversity', data['lexical diversity'], False)\n",
    "\n",
    "    #replace non-numerical values in misspelled words with 0\n",
    "    uniform['misspelled words'] = uniform['misspelled words'].replace([np.inf, -np.inf], 0)\n",
    "    \n",
    "    return uniform"
   ]
  },
  {
   "cell_type": "code",
   "execution_count": 5,
   "id": "a52104f0-f00f-47f1-ba3c-2255ce002261",
   "metadata": {
    "extensions": {
     "jupyter_dashboards": {
      "activeView": "grid_default",
      "views": {
       "grid_default": {
        "col": null,
        "height": 2,
        "hidden": true,
        "row": null,
        "width": 2
       }
      }
     }
    },
    "tags": []
   },
   "outputs": [],
   "source": [
    "preprocessed_data = preprocess(df)\n",
    "X = preprocessed_data[['misspelled words', 'words', 'words per sentence', 'lexical diversity']].values\n",
    "y = df['normalized score'].values"
   ]
  },
  {
   "cell_type": "code",
   "execution_count": 6,
   "id": "e03ffef2-5e6e-4d95-afbe-a6dc0a20ec51",
   "metadata": {
    "extensions": {
     "jupyter_dashboards": {
      "activeView": "grid_default",
      "views": {
       "grid_default": {
        "col": null,
        "height": 2,
        "hidden": true,
        "row": null,
        "width": 2
       }
      }
     }
    },
    "tags": []
   },
   "outputs": [],
   "source": [
    "from sklearn.model_selection import train_test_split\n",
    "X_train,X_test,y_train,y_test = train_test_split(X,y,test_size=0.25,random_state=42, stratify=y)"
   ]
  },
  {
   "cell_type": "code",
   "execution_count": 7,
   "id": "a069307d-028f-45a4-adab-dda5f5bb49e2",
   "metadata": {
    "extensions": {
     "jupyter_dashboards": {
      "activeView": "grid_default",
      "views": {
       "grid_default": {
        "col": null,
        "height": 2,
        "hidden": true,
        "row": null,
        "width": 2
       }
      }
     }
    },
    "tags": []
   },
   "outputs": [],
   "source": [
    "from sklearn.neighbors import KNeighborsClassifier\n",
    "\n",
    "#Setup arrays to store training and test accuracies\n",
    "neighbors = np.arange(20,30)\n",
    "train_accuracy =np.empty(len(neighbors))\n",
    "test_accuracy = np.empty(len(neighbors))\n",
    "\n",
    "for i,k in enumerate(neighbors):\n",
    "    knn = KNeighborsClassifier(n_neighbors=k)\n",
    "    \n",
    "    #Fit the model\n",
    "    knn.fit(X_train, y_train)\n",
    "    \n",
    "    #Compute accuracy on the training set\n",
    "    train_accuracy[i] = knn.score(X_train, y_train)\n",
    "    \n",
    "    #Compute accuracy on the test set\n",
    "    test_accuracy[i] = knn.score(X_test, y_test) "
   ]
  },
  {
   "cell_type": "code",
   "execution_count": 8,
   "id": "5aee3d91-c6d8-4799-8c4c-7839c7319348",
   "metadata": {
    "extensions": {
     "jupyter_dashboards": {
      "activeView": "grid_default",
      "views": {
       "grid_default": {
        "col": null,
        "height": 2,
        "hidden": true,
        "row": null,
        "width": 2
       }
      }
     }
    },
    "tags": []
   },
   "outputs": [
    {
     "name": "stderr",
     "output_type": "stream",
     "text": [
      "/var/folders/wm/5yntx2ss5rs8y1t4qhwdwsw40000gn/T/ipykernel_54762/1948914630.py:4: DeprecationWarning: `set_matplotlib_formats` is deprecated since IPython 7.23, directly use `matplotlib_inline.backend_inline.set_matplotlib_formats()`\n",
      "  set_matplotlib_formats('svg')\n"
     ]
    }
   ],
   "source": [
    "from IPython.display import set_matplotlib_formats\n",
    "\n",
    "#Generate plot\n",
    "set_matplotlib_formats('svg')\n",
    "\n",
    "plot1 = plt.figure(1)\n",
    "plt.title('k-NN Varying number of neighbors')\n",
    "plt.plot(neighbors, test_accuracy, label='Testing Accuracy', color='Limegreen')\n",
    "plt.plot(neighbors, train_accuracy, label='Training accuracy', color='Gray')\n",
    "plt.legend()\n",
    "plt.xlabel('Number of neighbors')\n",
    "plt.ylabel('Accuracy')\n",
    "\n",
    "plt.close()"
   ]
  },
  {
   "cell_type": "code",
   "execution_count": 9,
   "id": "08d639b0-4588-45a0-b985-d37d4902ccda",
   "metadata": {
    "extensions": {
     "jupyter_dashboards": {
      "activeView": "grid_default",
      "views": {
       "grid_default": {
        "col": null,
        "height": 2,
        "hidden": true,
        "row": null,
        "width": 2
       }
      }
     }
    },
    "tags": []
   },
   "outputs": [],
   "source": [
    "#Setup a knn classifier with k neighbors\n",
    "knn = KNeighborsClassifier(n_neighbors=26)"
   ]
  },
  {
   "cell_type": "code",
   "execution_count": 10,
   "id": "c45ff4ce-bfe6-45eb-b484-f127a8955d23",
   "metadata": {
    "extensions": {
     "jupyter_dashboards": {
      "activeView": "grid_default",
      "views": {
       "grid_default": {
        "col": null,
        "height": 2,
        "hidden": true,
        "row": null,
        "width": 2
       }
      }
     }
    },
    "tags": []
   },
   "outputs": [
    {
     "data": {
      "text/plain": [
       "KNeighborsClassifier(n_neighbors=26)"
      ]
     },
     "execution_count": 10,
     "metadata": {},
     "output_type": "execute_result"
    }
   ],
   "source": [
    "#Fit the model\n",
    "knn.fit(X_train,y_train)"
   ]
  },
  {
   "cell_type": "code",
   "execution_count": 11,
   "id": "9e654624-0725-48c8-a23a-1361f0e85cd4",
   "metadata": {
    "extensions": {
     "jupyter_dashboards": {
      "activeView": "grid_default",
      "views": {
       "grid_default": {
        "col": null,
        "height": 2,
        "hidden": true,
        "row": null,
        "width": 2
       }
      }
     }
    },
    "tags": []
   },
   "outputs": [],
   "source": [
    "#Get accuracy\n",
    "accuracy_score = knn.score(X_test,y_test)\n",
    "inaccurate = 1 - accuracy_score"
   ]
  },
  {
   "cell_type": "code",
   "execution_count": 12,
   "id": "9ba9d856-b6e9-453c-a525-25e773ac4f4a",
   "metadata": {
    "extensions": {
     "jupyter_dashboards": {
      "activeView": "grid_default",
      "views": {
       "grid_default": {
        "col": null,
        "height": 2,
        "hidden": true,
        "row": null,
        "width": 2
       }
      }
     }
    },
    "tags": []
   },
   "outputs": [],
   "source": [
    "# Pie chart, where the slices will be ordered and plotted counter-clockwise:\n",
    "labels = 'Correct', 'Incorrect'\n",
    "sizes = [accuracy_score, inaccurate]\n",
    "\n",
    "colors = ('Limegreen', 'Gray')\n",
    "explode = (0.1, 0)  # only \"explode\" the 1st slice (i.e. 'Correct')\n",
    "\n",
    "fig1, ax1 = plt.subplots()\n",
    "ax1.pie(sizes, explode=explode, labels=labels, autopct='%1.1f%%',\n",
    "        shadow=True, startangle=90, colors=colors)\n",
    "ax1.axis('equal')  # Equal aspect ratio ensures that pie is drawn as a circle.\n",
    "\n",
    "plt.close()"
   ]
  },
  {
   "cell_type": "code",
   "execution_count": 13,
   "id": "dc93b998-f55c-48fc-93c2-c5464ebb63b5",
   "metadata": {
    "extensions": {
     "jupyter_dashboards": {
      "activeView": "grid_default",
      "views": {
       "grid_default": {
        "col": null,
        "height": 2,
        "hidden": true,
        "row": null,
        "width": 2
       }
      }
     }
    },
    "tags": []
   },
   "outputs": [],
   "source": [
    "#let us get the predictions using the classifier we had fit above\n",
    "y_pred = knn.predict(X_test)"
   ]
  },
  {
   "cell_type": "code",
   "execution_count": 14,
   "id": "03bf83c8-00e1-4bc5-9074-b5aad79ac33e",
   "metadata": {
    "extensions": {
     "jupyter_dashboards": {
      "activeView": "grid_default",
      "views": {
       "grid_default": {
        "col": null,
        "height": 2,
        "hidden": true,
        "row": null,
        "width": 2
       }
      }
     }
    },
    "tags": []
   },
   "outputs": [],
   "source": [
    "crosstab = pandas.crosstab(y_test, y_pred, rownames=['True'], colnames=['Predicted'], margins=True)"
   ]
  },
  {
   "cell_type": "code",
   "execution_count": 15,
   "id": "7373ed07-eb78-4868-a8db-93f5f4ca437f",
   "metadata": {
    "extensions": {
     "jupyter_dashboards": {
      "activeView": "grid_default",
      "views": {
       "grid_default": {
        "col": null,
        "height": 2,
        "hidden": true,
        "row": null,
        "width": 2
       }
      }
     }
    }
   },
   "outputs": [],
   "source": [
    "from nltk.tokenize import sent_tokenize, word_tokenize\n",
    "from nltk.corpus import stopwords\n",
    "from spellchecker import SpellChecker\n",
    "import ipywidgets as widgets\n",
    "from IPython.display import display, Markdown"
   ]
  },
  {
   "cell_type": "code",
   "execution_count": 16,
   "id": "b4f0004c-da70-4447-8171-b4c02d586702",
   "metadata": {
    "extensions": {
     "jupyter_dashboards": {
      "activeView": "grid_default",
      "views": {
       "grid_default": {
        "col": 0,
        "height": 2,
        "hidden": false,
        "row": 1,
        "width": 3
       }
      }
     }
    }
   },
   "outputs": [
    {
     "data": {
      "text/markdown": [
       "# Auto Grader"
      ],
      "text/plain": [
       "<IPython.core.display.Markdown object>"
      ]
     },
     "metadata": {},
     "output_type": "display_data"
    }
   ],
   "source": [
    "display(Markdown('# Auto Grader'))"
   ]
  },
  {
   "cell_type": "code",
   "execution_count": 17,
   "id": "7e865f0d-3109-4378-ba59-da951b8762de",
   "metadata": {
    "extensions": {
     "jupyter_dashboards": {
      "activeView": "grid_default",
      "views": {
       "grid_default": {
        "col": null,
        "height": 2,
        "hidden": true,
        "row": null,
        "width": 2
       }
      }
     }
    }
   },
   "outputs": [],
   "source": [
    "output1 = widgets.Output()\n",
    "output2 = widgets.Output()\n",
    "output3 = widgets.Output()\n",
    "output4 = widgets.Output()\n",
    "output5 = widgets.Output()\n",
    "output6 = widgets.Output()"
   ]
  },
  {
   "cell_type": "code",
   "execution_count": 18,
   "id": "27af6dee-fd7d-471b-963b-5bc318134b52",
   "metadata": {
    "extensions": {
     "jupyter_dashboards": {
      "activeView": "grid_default",
      "views": {
       "grid_default": {
        "col": 7,
        "height": 3,
        "hidden": false,
        "row": 1,
        "width": 3
       }
      }
     }
    }
   },
   "outputs": [
    {
     "data": {
      "application/vnd.jupyter.widget-view+json": {
       "model_id": "d8c53cf7ba4345e897b23e51392e358f",
       "version_major": 2,
       "version_minor": 0
      },
      "text/plain": [
       "Text(value='', description='Username:', placeholder='username')"
      ]
     },
     "metadata": {},
     "output_type": "display_data"
    },
    {
     "data": {
      "application/vnd.jupyter.widget-view+json": {
       "model_id": "bd1514940b7d4d2f9920f265a2e00686",
       "version_major": 2,
       "version_minor": 0
      },
      "text/plain": [
       "Password(description='Password:', placeholder='password')"
      ]
     },
     "metadata": {},
     "output_type": "display_data"
    }
   ],
   "source": [
    "username = widgets.Text(\n",
    "    placeholder='username',\n",
    "    description='Username:',\n",
    "    disabled=False\n",
    ")\n",
    "\n",
    "password = widgets.Password(\n",
    "    placeholder='password',\n",
    "    description='Password:',\n",
    "    disabled=False\n",
    ")\n",
    "\n",
    "display(username)\n",
    "display(password)"
   ]
  },
  {
   "cell_type": "code",
   "execution_count": 73,
   "id": "b67b3732-08eb-4ff4-80ec-8af47c85a6ef",
   "metadata": {
    "extensions": {
     "jupyter_dashboards": {
      "activeView": "grid_default",
      "views": {
       "grid_default": {
        "col": null,
        "height": 2,
        "hidden": true,
        "row": null,
        "width": 2
       }
      }
     }
    }
   },
   "outputs": [],
   "source": [
    "import pymysql\n",
    "import paramiko\n",
    "import os \n",
    "import sys\n",
    "import subprocess\n",
    "from paramiko import SSHClient\n",
    "from sshtunnel import SSHTunnelForwarder"
   ]
  },
  {
   "cell_type": "code",
   "execution_count": 72,
   "id": "e4c7fa19-5015-40a6-8c5b-223b6958eb9b",
   "metadata": {
    "extensions": {
     "jupyter_dashboards": {
      "activeView": "grid_default",
      "views": {
       "grid_default": {
        "col": null,
        "height": 2,
        "hidden": true,
        "row": null,
        "width": 2
       }
      }
     }
    }
   },
   "outputs": [],
   "source": [
    "def authenticate(usrnm, psswrd):\n",
    "    if (len(usrnm)==0) or (len(psswrd)==0):\n",
    "        print(\"Error: Username AND/OR Password is blank. Complete both fields to continue.\")\n",
    "        \n",
    "    else:\n",
    "        \n",
    "        mypkey = paramiko.RSAKey.from_private_key_file('auto_grader_kp.pem')\n",
    "        # if you want to use ssh password use - ssh_password='your ssh password', bellow\n",
    "\n",
    "        sql_hostname = 'database.c6m1wpjwna5v.us-east-1.rds.amazonaws.com'\n",
    "        sql_username = 'admin'\n",
    "        sql_password = 'gyjqef-dogni2-Fuxhub'\n",
    "        sql_main_database = 'auto_grader_db'\n",
    "        sql_port = 3306\n",
    "        ssh_host = '35.153.120.37'\n",
    "        ssh_user = 'ec2-user'\n",
    "        ssh_port = 22\n",
    "\n",
    "        with SSHTunnelForwarder(\n",
    "                (ssh_host, ssh_port),\n",
    "                ssh_username=ssh_user,\n",
    "                ssh_pkey=mypkey,\n",
    "                remote_bind_address=(sql_hostname, sql_port)) as tunnel:\n",
    "            \n",
    "            conn = pymysql.connect(host='127.0.0.1', user=sql_username,\n",
    "                    passwd=sql_password, db=sql_main_database,\n",
    "                    port=tunnel.local_bind_port)\n",
    "            \n",
    "            ###Authenticate username and password###\n",
    "            cur = conn.cursor()\n",
    "            query = 'SELECT COUNT(*) FROM users WHERE username=%s AND password=%s;'\n",
    "            val = (usrnm, psswrd)\n",
    "            \n",
    "            try:\n",
    "                cur.execute(query, val)\n",
    "                result = cur.fetchone()[0]\n",
    "                \n",
    "                if result == 0:\n",
    "                    print(\"Invalid Username AND/OR Password. Please try again.\")\n",
    "                    conn.close()\n",
    "                    \n",
    "                else:\n",
    "                    display(author)\n",
    "                    display(essay)\n",
    "                    display(submit_button)\n",
    "\n",
    "                    username.close()\n",
    "                    password.close()\n",
    "                    login_button.close()\n",
    "                    conn.close()\n",
    "            \n",
    "            except MySQLError as ex:\n",
    "                print(ex)\n",
    "                conn.close()"
   ]
  },
  {
   "cell_type": "code",
   "execution_count": 21,
   "id": "181c64a7-d5a0-4a67-bf30-ed803e533835",
   "metadata": {
    "extensions": {
     "jupyter_dashboards": {
      "activeView": "grid_default",
      "views": {
       "grid_default": {
        "col": 7,
        "height": 4,
        "hidden": false,
        "row": 4,
        "width": 5
       }
      }
     }
    },
    "tags": []
   },
   "outputs": [
    {
     "data": {
      "application/vnd.jupyter.widget-view+json": {
       "model_id": "5237158378474bbdb77e3df1d45ecb86",
       "version_major": 2,
       "version_minor": 0
      },
      "text/plain": [
       "Output()"
      ]
     },
     "metadata": {},
     "output_type": "display_data"
    }
   ],
   "source": [
    "@output1.capture(clear_output=True,wait=True)\n",
    "def on_login_button(b):\n",
    "    authenticate(username.value, password.value)\n",
    "    \n",
    "output1"
   ]
  },
  {
   "cell_type": "code",
   "execution_count": 22,
   "id": "77cad5e4-f6a5-4b82-b56c-67342d23ee62",
   "metadata": {
    "extensions": {
     "jupyter_dashboards": {
      "activeView": "grid_default",
      "views": {
       "grid_default": {
        "col": 10,
        "height": 2,
        "hidden": false,
        "row": 1,
        "width": 2
       }
      }
     }
    }
   },
   "outputs": [
    {
     "data": {
      "application/vnd.jupyter.widget-view+json": {
       "model_id": "8a1557b9f9a84e75ac2ee2f399ac43e7",
       "version_major": 2,
       "version_minor": 0
      },
      "text/plain": [
       "Button(description='Login', icon='sign-in-alt', style=ButtonStyle(), tooltip='Click me')"
      ]
     },
     "metadata": {},
     "output_type": "display_data"
    }
   ],
   "source": [
    "login_button = widgets.Button(\n",
    "    description='Login',\n",
    "    disabled=False,\n",
    "    button_style='', # 'success', 'info', 'warning', 'danger' or ''\n",
    "    tooltip='Click me',\n",
    "    icon='sign-in-alt' # (FontAwesome names without the `fa-` prefix)\n",
    ")\n",
    "\n",
    "login_button.on_click(on_login_button)\n",
    "display(login_button)"
   ]
  },
  {
   "cell_type": "code",
   "execution_count": 23,
   "id": "48db8a15-e56a-4652-8152-a74e9bc14543",
   "metadata": {
    "extensions": {
     "jupyter_dashboards": {
      "activeView": "grid_default",
      "views": {
       "grid_default": {
        "col": null,
        "height": 2,
        "hidden": true,
        "row": null,
        "width": 2
       }
      }
     }
    }
   },
   "outputs": [],
   "source": [
    "author = widgets.Text(\n",
    "    placeholder='author name',\n",
    "    description='Author:',\n",
    "    disabled=False\n",
    ")\n",
    "\n",
    "essay = widgets.Textarea(\n",
    "    placeholder='type OR copy/paste essay',\n",
    "    description='Essay:',\n",
    "    disabled=False\n",
    ")"
   ]
  },
  {
   "cell_type": "code",
   "execution_count": 24,
   "id": "9d68a0a6-77d7-4bd3-9463-07db01cf05e8",
   "metadata": {
    "extensions": {
     "jupyter_dashboards": {
      "activeView": "grid_default",
      "views": {
       "grid_default": {
        "col": 3,
        "height": 30,
        "hidden": false,
        "row": 28,
        "width": 7
       }
      }
     }
    }
   },
   "outputs": [
    {
     "data": {
      "application/vnd.jupyter.widget-view+json": {
       "model_id": "37a9eba01546499c9d552890070fea7e",
       "version_major": 2,
       "version_minor": 0
      },
      "text/plain": [
       "Output()"
      ]
     },
     "metadata": {},
     "output_type": "display_data"
    }
   ],
   "source": [
    "@output2.capture(clear_output=True,wait=True)\n",
    "def on_submit_button(b):\n",
    "    if (len(author.value)==0) or (len(essay.value)==0):\n",
    "        print(\"Error: Author Name AND/OR Essay is blank. Complete both fields to continue.\")\n",
    "        \n",
    "    else:\n",
    "        grade(essay.value)\n",
    "        \n",
    "output2"
   ]
  },
  {
   "cell_type": "code",
   "execution_count": 25,
   "id": "3d3a51f8-bb64-4d69-97a5-3c9a18fbcbd0",
   "metadata": {
    "extensions": {
     "jupyter_dashboards": {
      "activeView": "grid_default",
      "views": {
       "grid_default": {
        "col": null,
        "height": 2,
        "hidden": true,
        "row": null,
        "width": 2
       }
      }
     }
    }
   },
   "outputs": [],
   "source": [
    "submit_button = widgets.Button(\n",
    "    description='Submit',\n",
    "    disabled=False,\n",
    "    button_style='', # 'success', 'info', 'warning', 'danger' or ''\n",
    "    tooltip='Click me',\n",
    "    icon='check-circle' # (FontAwesome names without the `fa-` prefix)\n",
    ")\n",
    "\n",
    "submit_button.on_click(on_submit_button)"
   ]
  },
  {
   "cell_type": "code",
   "execution_count": 26,
   "id": "d61cba4c-ec56-4e29-9cba-0802f97c75a9",
   "metadata": {
    "extensions": {
     "jupyter_dashboards": {
      "activeView": "grid_default",
      "views": {
       "grid_default": {
        "col": null,
        "height": 2,
        "hidden": true,
        "row": null,
        "width": 2
       }
      }
     }
    }
   },
   "outputs": [],
   "source": [
    "import csv"
   ]
  },
  {
   "cell_type": "code",
   "execution_count": 27,
   "id": "a0ca2f79-3e57-4c75-9f9e-994f59d5e25e",
   "metadata": {
    "extensions": {
     "jupyter_dashboards": {
      "activeView": "grid_default",
      "views": {
       "grid_default": {
        "col": null,
        "height": 2,
        "hidden": true,
        "row": null,
        "width": 2
       }
      }
     }
    }
   },
   "outputs": [],
   "source": [
    "def insert_score(author, score):\n",
    "    mypkey = paramiko.RSAKey.from_private_key_file('auto_grader_kp.pem')\n",
    "    # if you want to use ssh password use - ssh_password='your ssh password', bellow\n",
    "\n",
    "    sql_hostname = 'database.c6m1wpjwna5v.us-east-1.rds.amazonaws.com'\n",
    "    sql_username = 'admin'\n",
    "    sql_password = 'gyjqef-dogni2-Fuxhub'\n",
    "    sql_main_database = 'auto_grader_db'\n",
    "    sql_port = 3306\n",
    "    ssh_host = '35.153.120.37'\n",
    "    ssh_user = 'ec2-user'\n",
    "    ssh_port = 22\n",
    "\n",
    "    with SSHTunnelForwarder(\n",
    "            (ssh_host, ssh_port),\n",
    "            ssh_username=ssh_user,\n",
    "            ssh_pkey=mypkey,\n",
    "            remote_bind_address=(sql_hostname, sql_port)) as tunnel:\n",
    "\n",
    "        conn = pymysql.connect(host='127.0.0.1', user=sql_username,\n",
    "                passwd=sql_password, db=sql_main_database,\n",
    "                port=tunnel.local_bind_port)\n",
    "\n",
    "        ###Authenticate username and password###\n",
    "        cur = conn.cursor()\n",
    "        query = 'INSERT INTO reports(user_id, author, score, date_time) VALUES(%s, %s, %s, NOW())'\n",
    "        val = [1, author, score]\n",
    "\n",
    "        try:\n",
    "            cur.execute(query, val)\n",
    "            conn.commit()\n",
    "            conn.close()\n",
    "\n",
    "        except MySQLError as ex:\n",
    "            print(ex)\n",
    "            conn.close()"
   ]
  },
  {
   "cell_type": "code",
   "execution_count": 68,
   "id": "94b37588-063b-4619-87d0-e703696f66fb",
   "metadata": {
    "extensions": {
     "jupyter_dashboards": {
      "activeView": "grid_default",
      "views": {
       "grid_default": {
        "col": 3,
        "height": 1,
        "hidden": false,
        "row": 8,
        "width": 9
       }
      }
     }
    }
   },
   "outputs": [
    {
     "data": {
      "application/vnd.jupyter.widget-view+json": {
       "model_id": "6abc5dd2ac624906827cc0e38d37ca37",
       "version_major": 2,
       "version_minor": 0
      },
      "text/plain": [
       "Output()"
      ]
     },
     "metadata": {},
     "output_type": "display_data"
    }
   ],
   "source": [
    "@output3.capture(clear_output=True,wait=True)\n",
    "def on_report_button(b):\n",
    "    \n",
    "    mypkey = paramiko.RSAKey.from_private_key_file('auto_grader_kp.pem')\n",
    "    # if you want to use ssh password use - ssh_password='your ssh password', bellow\n",
    "\n",
    "    sql_hostname = 'database.c6m1wpjwna5v.us-east-1.rds.amazonaws.com'\n",
    "    sql_username = 'admin'\n",
    "    sql_password = 'gyjqef-dogni2-Fuxhub'\n",
    "    sql_main_database = 'auto_grader_db'\n",
    "    sql_port = 3306\n",
    "    ssh_host = '35.153.120.37'\n",
    "    ssh_user = 'ec2-user'\n",
    "    ssh_port = 22\n",
    "\n",
    "    with SSHTunnelForwarder(\n",
    "            (ssh_host, ssh_port),\n",
    "            ssh_username=ssh_user,\n",
    "            ssh_pkey=mypkey,\n",
    "            remote_bind_address=(sql_hostname, sql_port)) as tunnel:\n",
    "\n",
    "        conn = pymysql.connect(host='127.0.0.1', user=sql_username,\n",
    "                passwd=sql_password, db=sql_main_database,\n",
    "                port=tunnel.local_bind_port)\n",
    "\n",
    "        ###Authenticate username and password###\n",
    "        cur = conn.cursor()\n",
    "        query = 'SELECT * FROM reports WHERE user_id=%s'\n",
    "        val = 1\n",
    "\n",
    "        try:\n",
    "            cur.execute(query, val)\n",
    "\n",
    "            rows = cur.fetchall()\n",
    "            fp = open('report_card.csv', 'w')\n",
    "            file = csv.writer(fp)\n",
    "            file.writerows(rows)\n",
    "            fp.close()\n",
    "            \n",
    "            #view the report#\n",
    "            if sys.platform == \"win32\":\n",
    "                os.startfile('report_card.csv')\n",
    "            else:\n",
    "                opener = \"open\" if sys.platform == \"darwin\" else \"xdg-open\"\n",
    "                subprocess.call([opener, 'report_card.csv'])\n",
    "            \n",
    "            conn.close()\n",
    "\n",
    "        except MySQLError as ex:\n",
    "            print(ex)\n",
    "            conn.close()\n",
    "\n",
    "output3"
   ]
  },
  {
   "cell_type": "code",
   "execution_count": 66,
   "id": "4c42c247-4a6f-4ab4-9a8c-ea81e3a3c9fc",
   "metadata": {
    "extensions": {
     "jupyter_dashboards": {
      "activeView": "grid_default",
      "views": {
       "grid_default": {
        "col": null,
        "height": 2,
        "hidden": true,
        "row": null,
        "width": 2
       }
      }
     }
    }
   },
   "outputs": [],
   "source": [
    "report_button = widgets.Button(\n",
    "    description='Generate Report',\n",
    "    disabled=False,\n",
    "    button_style='', # 'success', 'info', 'warning', 'danger' or ''\n",
    "    tooltip='Click me',\n",
    "    icon='file-export' # (FontAwesome names without the `fa-` prefix)\n",
    ")\n",
    "\n",
    "report_button.on_click(on_report_button)"
   ]
  },
  {
   "cell_type": "code",
   "execution_count": 30,
   "id": "cdcead3e-f56a-4222-a131-02f6d1629878",
   "metadata": {
    "extensions": {
     "jupyter_dashboards": {
      "activeView": "grid_default",
      "views": {
       "grid_default": {
        "col": null,
        "height": 2,
        "hidden": true,
        "row": null,
        "width": 2
       }
      }
     }
    },
    "tags": []
   },
   "outputs": [],
   "source": [
    "def grade(text):\n",
    "    \n",
    "    sentences = sent_tokenize(text)\n",
    "    words = word_tokenize(text)\n",
    "\n",
    "    spell = SpellChecker()\n",
    "    misspelled = spell.unknown(words)\n",
    "\n",
    "    ###FEATURE 1: MISSPELLED WORDS###\n",
    "    num_misspelled = len(misspelled)\n",
    "\n",
    "    stops = set(stopwords.words('english'))\n",
    "\n",
    "    filtered_words = []\n",
    "\n",
    "    for w in words:\n",
    "        if w in misspelled:\n",
    "            continue\n",
    "\n",
    "        if w not in stops:\n",
    "            filtered_words.append(w)\n",
    "\n",
    "    ###FEATURE 2: TOTAL WORDS###\n",
    "    total_words = len(filtered_words)\n",
    "\n",
    "    ###FEATURE 3: WORDS PER SENTENCE###\n",
    "    words_per_sentence = total_words / len(sentences)\n",
    "\n",
    "    unique_words = len(set(filtered_words))\n",
    "\n",
    "    ###FEATURE 4: LEXICAL DIVERSITY###\n",
    "    lexical_diversity = unique_words / total_words\n",
    "\n",
    "    #Data Preprocessing\n",
    "    features = [[num_misspelled, total_words, words_per_sentence, lexical_diversity]]\n",
    "    prediction_df = pandas.DataFrame(features, columns = ['misspelled words', 'words', 'words per sentence', 'lexical diversity'])\n",
    "    preprocessed_data = preprocess(prediction_df)\n",
    "\n",
    "    #Predicted Score\n",
    "    predicted_score = knn.predict(preprocessed_data)[0]\n",
    "    score_codes = ['FAIL', 'PASS']\n",
    "    \n",
    "    #Insert Score into Database\n",
    "    insert_score(author.value, score_codes[predicted_score])\n",
    "\n",
    "    print('Grade: ' + score_codes[predicted_score])\n",
    "\n",
    "    ###Wordcount###\n",
    "    rslt_df = df[df['normalized score'] == predicted_score]\n",
    "\n",
    "    mean_words = rslt_df['words'].mean()\n",
    "\n",
    "    x_labels = ['This Essay', 'Average Essay of a Similar Score']\n",
    "    word_vals = [total_words, mean_words]\n",
    "\n",
    "    x_pos = [i for i, _ in enumerate(x_labels)]\n",
    "\n",
    "    plt.bar(x_pos, word_vals, color=['Limegreen', 'Gray'])\n",
    "\n",
    "    plt.ylabel(\"Number of Words\")\n",
    "    plt.title(\"Wordcount\")\n",
    "    plt.xticks(x_pos, x_labels)\n",
    "\n",
    "    plt.show()\n",
    "\n",
    "    ###Misspellings###\n",
    "    rslt_df = df[df['normalized score'] == predicted_score]\n",
    "\n",
    "    mean_errors = rslt_df['misspelled words'].mean()\n",
    "\n",
    "    x_labels = ['This Essay', 'Average Essay of a Similar Score']\n",
    "    word_vals = [num_misspelled, mean_errors]\n",
    "\n",
    "    x_pos = [i for i, _ in enumerate(x_labels)]\n",
    "\n",
    "    plt.bar(x_pos, word_vals, color=['Limegreen', 'Gray'])\n",
    "\n",
    "    plt.ylabel(\"Number of Misspellings\")\n",
    "    plt.title(\"Misspellings\")\n",
    "    plt.xticks(x_pos, x_labels)\n",
    "    \n",
    "    plt.show()\n",
    "\n",
    "    ###Lexical Diversity###\n",
    "    rslt_df = df[df['normalized score'] == predicted_score]\n",
    "\n",
    "    mean_diversity = rslt_df['lexical diversity'].mean()\n",
    "\n",
    "    x_labels = ['This Essay', 'Average Essay of a Similar Score']\n",
    "    word_vals = [lexical_diversity, mean_diversity]\n",
    "\n",
    "    x_pos = [i for i, _ in enumerate(x_labels)]\n",
    "\n",
    "    plt.bar(x_pos, word_vals, color=['Limegreen', 'Gray'])\n",
    "\n",
    "    plt.ylabel(\"Ratio of Unique Words\")\n",
    "    plt.title(\"Lexical Diversity\")\n",
    "    plt.xticks(x_pos, x_labels)\n",
    "\n",
    "    plt.show()\n",
    "    \n",
    "    #Generate report\n",
    "    display(report_button)"
   ]
  },
  {
   "cell_type": "code",
   "execution_count": 31,
   "id": "3d1cd698-1d20-4fe1-be08-2e3038c269f9",
   "metadata": {
    "extensions": {
     "jupyter_dashboards": {
      "activeView": "grid_default",
      "views": {
       "grid_default": {
        "col": 7,
        "height": 1,
        "hidden": true,
        "row": 5,
        "width": 5
       }
      }
     }
    }
   },
   "outputs": [
    {
     "data": {
      "application/vnd.jupyter.widget-view+json": {
       "model_id": "3386221be4a249d2ae6eddda35f86a42",
       "version_major": 2,
       "version_minor": 0
      },
      "text/plain": [
       "Output()"
      ]
     },
     "metadata": {},
     "output_type": "display_data"
    }
   ],
   "source": [
    "@output5.capture(clear_output=True,wait=True)\n",
    "def on_info_button(b):\n",
    "    display(data_table)\n",
    "    display(plot1)\n",
    "    display(crosstab)\n",
    "    display(fig1)\n",
    "    \n",
    "    info_button.close()\n",
    "        \n",
    "output5"
   ]
  },
  {
   "cell_type": "code",
   "execution_count": 32,
   "id": "2a3cf188-29ef-4069-8b8d-bcb928961b23",
   "metadata": {
    "extensions": {
     "jupyter_dashboards": {
      "activeView": "grid_default",
      "views": {
       "grid_default": {
        "col": 7,
        "height": 2,
        "hidden": true,
        "row": 3,
        "width": 5
       }
      }
     }
    }
   },
   "outputs": [
    {
     "data": {
      "application/vnd.jupyter.widget-view+json": {
       "model_id": "c095df487ce54d67ac21d4986802d045",
       "version_major": 2,
       "version_minor": 0
      },
      "text/plain": [
       "Button(description='More Info', icon='info-circle', style=ButtonStyle(), tooltip='Click me')"
      ]
     },
     "metadata": {},
     "output_type": "display_data"
    }
   ],
   "source": [
    "info_button = widgets.Button(\n",
    "    description='More Info',\n",
    "    disabled=False,\n",
    "    button_style='', # 'success', 'info', 'warning', 'danger' or ''\n",
    "    tooltip='Click me',\n",
    "    icon='info-circle' # (FontAwesome names without the `fa-` prefix)\n",
    ")\n",
    "\n",
    "info_button.on_click(on_info_button)\n",
    "display(info_button)"
   ]
  },
  {
   "cell_type": "code",
   "execution_count": 33,
   "id": "4be13aef-edeb-4058-922d-089ee88c24a2",
   "metadata": {
    "extensions": {
     "jupyter_dashboards": {
      "activeView": "grid_default",
      "views": {
       "grid_default": {
        "col": null,
        "height": 2,
        "hidden": true,
        "row": null,
        "width": 2
       }
      }
     }
    }
   },
   "outputs": [
    {
     "data": {
      "text/markdown": [
       "## Essay Data"
      ],
      "text/plain": [
       "<IPython.core.display.Markdown object>"
      ]
     },
     "metadata": {},
     "output_type": "display_data"
    }
   ],
   "source": [
    "display(Markdown('## Essay Data'))"
   ]
  },
  {
   "cell_type": "code",
   "execution_count": 34,
   "id": "20eba232-20b2-4691-962f-b839d291b905",
   "metadata": {
    "extensions": {
     "jupyter_dashboards": {
      "activeView": "grid_default",
      "views": {
       "grid_default": {
        "col": null,
        "height": 2,
        "hidden": true,
        "row": null,
        "width": 2
       }
      }
     }
    }
   },
   "outputs": [
    {
     "data": {
      "text/html": [
       "<div>\n",
       "<style scoped>\n",
       "    .dataframe tbody tr th:only-of-type {\n",
       "        vertical-align: middle;\n",
       "    }\n",
       "\n",
       "    .dataframe tbody tr th {\n",
       "        vertical-align: top;\n",
       "    }\n",
       "\n",
       "    .dataframe thead th {\n",
       "        text-align: right;\n",
       "    }\n",
       "</style>\n",
       "<table border=\"1\" class=\"dataframe\">\n",
       "  <thead>\n",
       "    <tr style=\"text-align: right;\">\n",
       "      <th></th>\n",
       "      <th>essay id</th>\n",
       "      <th>misspelled words</th>\n",
       "      <th>words</th>\n",
       "      <th>words per sentence</th>\n",
       "      <th>lexical diversity</th>\n",
       "      <th>raw score</th>\n",
       "      <th>normalized score</th>\n",
       "    </tr>\n",
       "  </thead>\n",
       "  <tbody>\n",
       "    <tr>\n",
       "      <th>0</th>\n",
       "      <td>5979</td>\n",
       "      <td>15</td>\n",
       "      <td>130</td>\n",
       "      <td>10.833333</td>\n",
       "      <td>0.600000</td>\n",
       "      <td>2</td>\n",
       "      <td>1</td>\n",
       "    </tr>\n",
       "    <tr>\n",
       "      <th>1</th>\n",
       "      <td>5980</td>\n",
       "      <td>4</td>\n",
       "      <td>62</td>\n",
       "      <td>7.750000</td>\n",
       "      <td>0.774194</td>\n",
       "      <td>1</td>\n",
       "      <td>0</td>\n",
       "    </tr>\n",
       "    <tr>\n",
       "      <th>2</th>\n",
       "      <td>5981</td>\n",
       "      <td>7</td>\n",
       "      <td>42</td>\n",
       "      <td>14.000000</td>\n",
       "      <td>0.952381</td>\n",
       "      <td>1</td>\n",
       "      <td>0</td>\n",
       "    </tr>\n",
       "    <tr>\n",
       "      <th>3</th>\n",
       "      <td>5982</td>\n",
       "      <td>11</td>\n",
       "      <td>70</td>\n",
       "      <td>23.333333</td>\n",
       "      <td>0.685714</td>\n",
       "      <td>2</td>\n",
       "      <td>1</td>\n",
       "    </tr>\n",
       "    <tr>\n",
       "      <th>4</th>\n",
       "      <td>5983</td>\n",
       "      <td>4</td>\n",
       "      <td>43</td>\n",
       "      <td>14.333333</td>\n",
       "      <td>0.790698</td>\n",
       "      <td>1</td>\n",
       "      <td>0</td>\n",
       "    </tr>\n",
       "  </tbody>\n",
       "</table>\n",
       "</div>"
      ],
      "text/plain": [
       "   essay id  misspelled words  words  words per sentence  lexical diversity  \\\n",
       "0      5979                15    130           10.833333           0.600000   \n",
       "1      5980                 4     62            7.750000           0.774194   \n",
       "2      5981                 7     42           14.000000           0.952381   \n",
       "3      5982                11     70           23.333333           0.685714   \n",
       "4      5983                 4     43           14.333333           0.790698   \n",
       "\n",
       "   raw score  normalized score  \n",
       "0          2                 1  \n",
       "1          1                 0  \n",
       "2          1                 0  \n",
       "3          2                 1  \n",
       "4          1                 0  "
      ]
     },
     "metadata": {},
     "output_type": "display_data"
    }
   ],
   "source": [
    "display(data_table)"
   ]
  },
  {
   "cell_type": "code",
   "execution_count": 35,
   "id": "4b0f0e29-f387-40b6-b174-d0cba78e9470",
   "metadata": {
    "extensions": {
     "jupyter_dashboards": {
      "activeView": "grid_default",
      "views": {
       "grid_default": {
        "col": 5,
        "height": 2,
        "hidden": false,
        "row": 9,
        "width": 6
       }
      }
     }
    }
   },
   "outputs": [
    {
     "data": {
      "text/markdown": [
       "## Number of Neighbors Used for Classification"
      ],
      "text/plain": [
       "<IPython.core.display.Markdown object>"
      ]
     },
     "metadata": {},
     "output_type": "display_data"
    }
   ],
   "source": [
    "display(Markdown('## Number of Neighbors Used for Classification'))"
   ]
  },
  {
   "cell_type": "code",
   "execution_count": 36,
   "id": "c2d2eb51-b550-4a50-a978-8a079cb02f21",
   "metadata": {
    "extensions": {
     "jupyter_dashboards": {
      "activeView": "grid_default",
      "views": {
       "grid_default": {
        "col": 5,
        "height": 10,
        "hidden": false,
        "row": 11,
        "width": 6
       }
      }
     }
    }
   },
   "outputs": [
    {
     "data": {
      "image/svg+xml": [
       "<?xml version=\"1.0\" encoding=\"utf-8\" standalone=\"no\"?>\n",
       "<!DOCTYPE svg PUBLIC \"-//W3C//DTD SVG 1.1//EN\"\n",
       "  \"http://www.w3.org/Graphics/SVG/1.1/DTD/svg11.dtd\">\n",
       "<svg xmlns:xlink=\"http://www.w3.org/1999/xlink\" width=\"400.441875pt\" height=\"281.073625pt\" viewBox=\"0 0 400.441875 281.073625\" xmlns=\"http://www.w3.org/2000/svg\" version=\"1.1\">\n",
       " <metadata>\n",
       "  <rdf:RDF xmlns:dc=\"http://purl.org/dc/elements/1.1/\" xmlns:cc=\"http://creativecommons.org/ns#\" xmlns:rdf=\"http://www.w3.org/1999/02/22-rdf-syntax-ns#\">\n",
       "   <cc:Work>\n",
       "    <dc:type rdf:resource=\"http://purl.org/dc/dcmitype/StillImage\"/>\n",
       "    <dc:date>2022-01-12T16:01:10.793775</dc:date>\n",
       "    <dc:format>image/svg+xml</dc:format>\n",
       "    <dc:creator>\n",
       "     <cc:Agent>\n",
       "      <dc:title>Matplotlib v3.5.0, https://matplotlib.org/</dc:title>\n",
       "     </cc:Agent>\n",
       "    </dc:creator>\n",
       "   </cc:Work>\n",
       "  </rdf:RDF>\n",
       " </metadata>\n",
       " <defs>\n",
       "  <style type=\"text/css\">*{stroke-linejoin: round; stroke-linecap: butt}</style>\n",
       " </defs>\n",
       " <g id=\"figure_1\">\n",
       "  <g id=\"patch_1\">\n",
       "   <path d=\"M 0 281.073625 \n",
       "L 400.441875 281.073625 \n",
       "L 400.441875 0 \n",
       "L 0 0 \n",
       "z\n",
       "\" style=\"fill: #ffffff\"/>\n",
       "  </g>\n",
       "  <g id=\"axes_1\">\n",
       "   <g id=\"patch_2\">\n",
       "    <path d=\"M 58.441875 241.58175 \n",
       "L 393.241875 241.58175 \n",
       "L 393.241875 24.14175 \n",
       "L 58.441875 24.14175 \n",
       "z\n",
       "\" style=\"fill: #e5e5e5\"/>\n",
       "   </g>\n",
       "   <g id=\"matplotlib.axis_1\">\n",
       "    <g id=\"xtick_1\">\n",
       "     <g id=\"line2d_1\">\n",
       "      <path d=\"M 73.660057 241.58175 \n",
       "L 73.660057 24.14175 \n",
       "\" clip-path=\"url(#p706faf7161)\" style=\"fill: none; stroke: #ffffff; stroke-width: 0.8; stroke-linecap: square\"/>\n",
       "     </g>\n",
       "     <g id=\"line2d_2\">\n",
       "      <defs>\n",
       "       <path id=\"m98a4e5524a\" d=\"M 0 0 \n",
       "L 0 3.5 \n",
       "\" style=\"stroke: #555555; stroke-width: 0.8\"/>\n",
       "      </defs>\n",
       "      <g>\n",
       "       <use xlink:href=\"#m98a4e5524a\" x=\"73.660057\" y=\"241.58175\" style=\"fill: #555555; stroke: #555555; stroke-width: 0.8\"/>\n",
       "      </g>\n",
       "     </g>\n",
       "     <g id=\"text_1\">\n",
       "      <!-- 20 -->\n",
       "      <g style=\"fill: #555555\" transform=\"translate(67.297557 256.180187)scale(0.1 -0.1)\">\n",
       "       <defs>\n",
       "        <path id=\"DejaVuSans-32\" d=\"M 1228 531 \n",
       "L 3431 531 \n",
       "L 3431 0 \n",
       "L 469 0 \n",
       "L 469 531 \n",
       "Q 828 903 1448 1529 \n",
       "Q 2069 2156 2228 2338 \n",
       "Q 2531 2678 2651 2914 \n",
       "Q 2772 3150 2772 3378 \n",
       "Q 2772 3750 2511 3984 \n",
       "Q 2250 4219 1831 4219 \n",
       "Q 1534 4219 1204 4116 \n",
       "Q 875 4013 500 3803 \n",
       "L 500 4441 \n",
       "Q 881 4594 1212 4672 \n",
       "Q 1544 4750 1819 4750 \n",
       "Q 2544 4750 2975 4387 \n",
       "Q 3406 4025 3406 3419 \n",
       "Q 3406 3131 3298 2873 \n",
       "Q 3191 2616 2906 2266 \n",
       "Q 2828 2175 2409 1742 \n",
       "Q 1991 1309 1228 531 \n",
       "z\n",
       "\" transform=\"scale(0.015625)\"/>\n",
       "        <path id=\"DejaVuSans-30\" d=\"M 2034 4250 \n",
       "Q 1547 4250 1301 3770 \n",
       "Q 1056 3291 1056 2328 \n",
       "Q 1056 1369 1301 889 \n",
       "Q 1547 409 2034 409 \n",
       "Q 2525 409 2770 889 \n",
       "Q 3016 1369 3016 2328 \n",
       "Q 3016 3291 2770 3770 \n",
       "Q 2525 4250 2034 4250 \n",
       "z\n",
       "M 2034 4750 \n",
       "Q 2819 4750 3233 4129 \n",
       "Q 3647 3509 3647 2328 \n",
       "Q 3647 1150 3233 529 \n",
       "Q 2819 -91 2034 -91 \n",
       "Q 1250 -91 836 529 \n",
       "Q 422 1150 422 2328 \n",
       "Q 422 3509 836 4129 \n",
       "Q 1250 4750 2034 4750 \n",
       "z\n",
       "\" transform=\"scale(0.015625)\"/>\n",
       "       </defs>\n",
       "       <use xlink:href=\"#DejaVuSans-32\"/>\n",
       "       <use xlink:href=\"#DejaVuSans-30\" x=\"63.623047\"/>\n",
       "      </g>\n",
       "     </g>\n",
       "    </g>\n",
       "    <g id=\"xtick_2\">\n",
       "     <g id=\"line2d_3\">\n",
       "      <path d=\"M 141.29642 241.58175 \n",
       "L 141.29642 24.14175 \n",
       "\" clip-path=\"url(#p706faf7161)\" style=\"fill: none; stroke: #ffffff; stroke-width: 0.8; stroke-linecap: square\"/>\n",
       "     </g>\n",
       "     <g id=\"line2d_4\">\n",
       "      <g>\n",
       "       <use xlink:href=\"#m98a4e5524a\" x=\"141.29642\" y=\"241.58175\" style=\"fill: #555555; stroke: #555555; stroke-width: 0.8\"/>\n",
       "      </g>\n",
       "     </g>\n",
       "     <g id=\"text_2\">\n",
       "      <!-- 22 -->\n",
       "      <g style=\"fill: #555555\" transform=\"translate(134.93392 256.180187)scale(0.1 -0.1)\">\n",
       "       <use xlink:href=\"#DejaVuSans-32\"/>\n",
       "       <use xlink:href=\"#DejaVuSans-32\" x=\"63.623047\"/>\n",
       "      </g>\n",
       "     </g>\n",
       "    </g>\n",
       "    <g id=\"xtick_3\">\n",
       "     <g id=\"line2d_5\">\n",
       "      <path d=\"M 208.932784 241.58175 \n",
       "L 208.932784 24.14175 \n",
       "\" clip-path=\"url(#p706faf7161)\" style=\"fill: none; stroke: #ffffff; stroke-width: 0.8; stroke-linecap: square\"/>\n",
       "     </g>\n",
       "     <g id=\"line2d_6\">\n",
       "      <g>\n",
       "       <use xlink:href=\"#m98a4e5524a\" x=\"208.932784\" y=\"241.58175\" style=\"fill: #555555; stroke: #555555; stroke-width: 0.8\"/>\n",
       "      </g>\n",
       "     </g>\n",
       "     <g id=\"text_3\">\n",
       "      <!-- 24 -->\n",
       "      <g style=\"fill: #555555\" transform=\"translate(202.570284 256.180187)scale(0.1 -0.1)\">\n",
       "       <defs>\n",
       "        <path id=\"DejaVuSans-34\" d=\"M 2419 4116 \n",
       "L 825 1625 \n",
       "L 2419 1625 \n",
       "L 2419 4116 \n",
       "z\n",
       "M 2253 4666 \n",
       "L 3047 4666 \n",
       "L 3047 1625 \n",
       "L 3713 1625 \n",
       "L 3713 1100 \n",
       "L 3047 1100 \n",
       "L 3047 0 \n",
       "L 2419 0 \n",
       "L 2419 1100 \n",
       "L 313 1100 \n",
       "L 313 1709 \n",
       "L 2253 4666 \n",
       "z\n",
       "\" transform=\"scale(0.015625)\"/>\n",
       "       </defs>\n",
       "       <use xlink:href=\"#DejaVuSans-32\"/>\n",
       "       <use xlink:href=\"#DejaVuSans-34\" x=\"63.623047\"/>\n",
       "      </g>\n",
       "     </g>\n",
       "    </g>\n",
       "    <g id=\"xtick_4\">\n",
       "     <g id=\"line2d_7\">\n",
       "      <path d=\"M 276.569148 241.58175 \n",
       "L 276.569148 24.14175 \n",
       "\" clip-path=\"url(#p706faf7161)\" style=\"fill: none; stroke: #ffffff; stroke-width: 0.8; stroke-linecap: square\"/>\n",
       "     </g>\n",
       "     <g id=\"line2d_8\">\n",
       "      <g>\n",
       "       <use xlink:href=\"#m98a4e5524a\" x=\"276.569148\" y=\"241.58175\" style=\"fill: #555555; stroke: #555555; stroke-width: 0.8\"/>\n",
       "      </g>\n",
       "     </g>\n",
       "     <g id=\"text_4\">\n",
       "      <!-- 26 -->\n",
       "      <g style=\"fill: #555555\" transform=\"translate(270.206648 256.180187)scale(0.1 -0.1)\">\n",
       "       <defs>\n",
       "        <path id=\"DejaVuSans-36\" d=\"M 2113 2584 \n",
       "Q 1688 2584 1439 2293 \n",
       "Q 1191 2003 1191 1497 \n",
       "Q 1191 994 1439 701 \n",
       "Q 1688 409 2113 409 \n",
       "Q 2538 409 2786 701 \n",
       "Q 3034 994 3034 1497 \n",
       "Q 3034 2003 2786 2293 \n",
       "Q 2538 2584 2113 2584 \n",
       "z\n",
       "M 3366 4563 \n",
       "L 3366 3988 \n",
       "Q 3128 4100 2886 4159 \n",
       "Q 2644 4219 2406 4219 \n",
       "Q 1781 4219 1451 3797 \n",
       "Q 1122 3375 1075 2522 \n",
       "Q 1259 2794 1537 2939 \n",
       "Q 1816 3084 2150 3084 \n",
       "Q 2853 3084 3261 2657 \n",
       "Q 3669 2231 3669 1497 \n",
       "Q 3669 778 3244 343 \n",
       "Q 2819 -91 2113 -91 \n",
       "Q 1303 -91 875 529 \n",
       "Q 447 1150 447 2328 \n",
       "Q 447 3434 972 4092 \n",
       "Q 1497 4750 2381 4750 \n",
       "Q 2619 4750 2861 4703 \n",
       "Q 3103 4656 3366 4563 \n",
       "z\n",
       "\" transform=\"scale(0.015625)\"/>\n",
       "       </defs>\n",
       "       <use xlink:href=\"#DejaVuSans-32\"/>\n",
       "       <use xlink:href=\"#DejaVuSans-36\" x=\"63.623047\"/>\n",
       "      </g>\n",
       "     </g>\n",
       "    </g>\n",
       "    <g id=\"xtick_5\">\n",
       "     <g id=\"line2d_9\">\n",
       "      <path d=\"M 344.205511 241.58175 \n",
       "L 344.205511 24.14175 \n",
       "\" clip-path=\"url(#p706faf7161)\" style=\"fill: none; stroke: #ffffff; stroke-width: 0.8; stroke-linecap: square\"/>\n",
       "     </g>\n",
       "     <g id=\"line2d_10\">\n",
       "      <g>\n",
       "       <use xlink:href=\"#m98a4e5524a\" x=\"344.205511\" y=\"241.58175\" style=\"fill: #555555; stroke: #555555; stroke-width: 0.8\"/>\n",
       "      </g>\n",
       "     </g>\n",
       "     <g id=\"text_5\">\n",
       "      <!-- 28 -->\n",
       "      <g style=\"fill: #555555\" transform=\"translate(337.843011 256.180187)scale(0.1 -0.1)\">\n",
       "       <defs>\n",
       "        <path id=\"DejaVuSans-38\" d=\"M 2034 2216 \n",
       "Q 1584 2216 1326 1975 \n",
       "Q 1069 1734 1069 1313 \n",
       "Q 1069 891 1326 650 \n",
       "Q 1584 409 2034 409 \n",
       "Q 2484 409 2743 651 \n",
       "Q 3003 894 3003 1313 \n",
       "Q 3003 1734 2745 1975 \n",
       "Q 2488 2216 2034 2216 \n",
       "z\n",
       "M 1403 2484 \n",
       "Q 997 2584 770 2862 \n",
       "Q 544 3141 544 3541 \n",
       "Q 544 4100 942 4425 \n",
       "Q 1341 4750 2034 4750 \n",
       "Q 2731 4750 3128 4425 \n",
       "Q 3525 4100 3525 3541 \n",
       "Q 3525 3141 3298 2862 \n",
       "Q 3072 2584 2669 2484 \n",
       "Q 3125 2378 3379 2068 \n",
       "Q 3634 1759 3634 1313 \n",
       "Q 3634 634 3220 271 \n",
       "Q 2806 -91 2034 -91 \n",
       "Q 1263 -91 848 271 \n",
       "Q 434 634 434 1313 \n",
       "Q 434 1759 690 2068 \n",
       "Q 947 2378 1403 2484 \n",
       "z\n",
       "M 1172 3481 \n",
       "Q 1172 3119 1398 2916 \n",
       "Q 1625 2713 2034 2713 \n",
       "Q 2441 2713 2670 2916 \n",
       "Q 2900 3119 2900 3481 \n",
       "Q 2900 3844 2670 4047 \n",
       "Q 2441 4250 2034 4250 \n",
       "Q 1625 4250 1398 4047 \n",
       "Q 1172 3844 1172 3481 \n",
       "z\n",
       "\" transform=\"scale(0.015625)\"/>\n",
       "       </defs>\n",
       "       <use xlink:href=\"#DejaVuSans-32\"/>\n",
       "       <use xlink:href=\"#DejaVuSans-38\" x=\"63.623047\"/>\n",
       "      </g>\n",
       "     </g>\n",
       "    </g>\n",
       "    <g id=\"text_6\">\n",
       "     <!-- Number of neighbors -->\n",
       "     <g style=\"fill: #555555\" transform=\"translate(162.29625 271.378)scale(0.12 -0.12)\">\n",
       "      <defs>\n",
       "       <path id=\"DejaVuSans-4e\" d=\"M 628 4666 \n",
       "L 1478 4666 \n",
       "L 3547 763 \n",
       "L 3547 4666 \n",
       "L 4159 4666 \n",
       "L 4159 0 \n",
       "L 3309 0 \n",
       "L 1241 3903 \n",
       "L 1241 0 \n",
       "L 628 0 \n",
       "L 628 4666 \n",
       "z\n",
       "\" transform=\"scale(0.015625)\"/>\n",
       "       <path id=\"DejaVuSans-75\" d=\"M 544 1381 \n",
       "L 544 3500 \n",
       "L 1119 3500 \n",
       "L 1119 1403 \n",
       "Q 1119 906 1312 657 \n",
       "Q 1506 409 1894 409 \n",
       "Q 2359 409 2629 706 \n",
       "Q 2900 1003 2900 1516 \n",
       "L 2900 3500 \n",
       "L 3475 3500 \n",
       "L 3475 0 \n",
       "L 2900 0 \n",
       "L 2900 538 \n",
       "Q 2691 219 2414 64 \n",
       "Q 2138 -91 1772 -91 \n",
       "Q 1169 -91 856 284 \n",
       "Q 544 659 544 1381 \n",
       "z\n",
       "M 1991 3584 \n",
       "L 1991 3584 \n",
       "z\n",
       "\" transform=\"scale(0.015625)\"/>\n",
       "       <path id=\"DejaVuSans-6d\" d=\"M 3328 2828 \n",
       "Q 3544 3216 3844 3400 \n",
       "Q 4144 3584 4550 3584 \n",
       "Q 5097 3584 5394 3201 \n",
       "Q 5691 2819 5691 2113 \n",
       "L 5691 0 \n",
       "L 5113 0 \n",
       "L 5113 2094 \n",
       "Q 5113 2597 4934 2840 \n",
       "Q 4756 3084 4391 3084 \n",
       "Q 3944 3084 3684 2787 \n",
       "Q 3425 2491 3425 1978 \n",
       "L 3425 0 \n",
       "L 2847 0 \n",
       "L 2847 2094 \n",
       "Q 2847 2600 2669 2842 \n",
       "Q 2491 3084 2119 3084 \n",
       "Q 1678 3084 1418 2786 \n",
       "Q 1159 2488 1159 1978 \n",
       "L 1159 0 \n",
       "L 581 0 \n",
       "L 581 3500 \n",
       "L 1159 3500 \n",
       "L 1159 2956 \n",
       "Q 1356 3278 1631 3431 \n",
       "Q 1906 3584 2284 3584 \n",
       "Q 2666 3584 2933 3390 \n",
       "Q 3200 3197 3328 2828 \n",
       "z\n",
       "\" transform=\"scale(0.015625)\"/>\n",
       "       <path id=\"DejaVuSans-62\" d=\"M 3116 1747 \n",
       "Q 3116 2381 2855 2742 \n",
       "Q 2594 3103 2138 3103 \n",
       "Q 1681 3103 1420 2742 \n",
       "Q 1159 2381 1159 1747 \n",
       "Q 1159 1113 1420 752 \n",
       "Q 1681 391 2138 391 \n",
       "Q 2594 391 2855 752 \n",
       "Q 3116 1113 3116 1747 \n",
       "z\n",
       "M 1159 2969 \n",
       "Q 1341 3281 1617 3432 \n",
       "Q 1894 3584 2278 3584 \n",
       "Q 2916 3584 3314 3078 \n",
       "Q 3713 2572 3713 1747 \n",
       "Q 3713 922 3314 415 \n",
       "Q 2916 -91 2278 -91 \n",
       "Q 1894 -91 1617 61 \n",
       "Q 1341 213 1159 525 \n",
       "L 1159 0 \n",
       "L 581 0 \n",
       "L 581 4863 \n",
       "L 1159 4863 \n",
       "L 1159 2969 \n",
       "z\n",
       "\" transform=\"scale(0.015625)\"/>\n",
       "       <path id=\"DejaVuSans-65\" d=\"M 3597 1894 \n",
       "L 3597 1613 \n",
       "L 953 1613 \n",
       "Q 991 1019 1311 708 \n",
       "Q 1631 397 2203 397 \n",
       "Q 2534 397 2845 478 \n",
       "Q 3156 559 3463 722 \n",
       "L 3463 178 \n",
       "Q 3153 47 2828 -22 \n",
       "Q 2503 -91 2169 -91 \n",
       "Q 1331 -91 842 396 \n",
       "Q 353 884 353 1716 \n",
       "Q 353 2575 817 3079 \n",
       "Q 1281 3584 2069 3584 \n",
       "Q 2775 3584 3186 3129 \n",
       "Q 3597 2675 3597 1894 \n",
       "z\n",
       "M 3022 2063 \n",
       "Q 3016 2534 2758 2815 \n",
       "Q 2500 3097 2075 3097 \n",
       "Q 1594 3097 1305 2825 \n",
       "Q 1016 2553 972 2059 \n",
       "L 3022 2063 \n",
       "z\n",
       "\" transform=\"scale(0.015625)\"/>\n",
       "       <path id=\"DejaVuSans-72\" d=\"M 2631 2963 \n",
       "Q 2534 3019 2420 3045 \n",
       "Q 2306 3072 2169 3072 \n",
       "Q 1681 3072 1420 2755 \n",
       "Q 1159 2438 1159 1844 \n",
       "L 1159 0 \n",
       "L 581 0 \n",
       "L 581 3500 \n",
       "L 1159 3500 \n",
       "L 1159 2956 \n",
       "Q 1341 3275 1631 3429 \n",
       "Q 1922 3584 2338 3584 \n",
       "Q 2397 3584 2469 3576 \n",
       "Q 2541 3569 2628 3553 \n",
       "L 2631 2963 \n",
       "z\n",
       "\" transform=\"scale(0.015625)\"/>\n",
       "       <path id=\"DejaVuSans-20\" transform=\"scale(0.015625)\"/>\n",
       "       <path id=\"DejaVuSans-6f\" d=\"M 1959 3097 \n",
       "Q 1497 3097 1228 2736 \n",
       "Q 959 2375 959 1747 \n",
       "Q 959 1119 1226 758 \n",
       "Q 1494 397 1959 397 \n",
       "Q 2419 397 2687 759 \n",
       "Q 2956 1122 2956 1747 \n",
       "Q 2956 2369 2687 2733 \n",
       "Q 2419 3097 1959 3097 \n",
       "z\n",
       "M 1959 3584 \n",
       "Q 2709 3584 3137 3096 \n",
       "Q 3566 2609 3566 1747 \n",
       "Q 3566 888 3137 398 \n",
       "Q 2709 -91 1959 -91 \n",
       "Q 1206 -91 779 398 \n",
       "Q 353 888 353 1747 \n",
       "Q 353 2609 779 3096 \n",
       "Q 1206 3584 1959 3584 \n",
       "z\n",
       "\" transform=\"scale(0.015625)\"/>\n",
       "       <path id=\"DejaVuSans-66\" d=\"M 2375 4863 \n",
       "L 2375 4384 \n",
       "L 1825 4384 \n",
       "Q 1516 4384 1395 4259 \n",
       "Q 1275 4134 1275 3809 \n",
       "L 1275 3500 \n",
       "L 2222 3500 \n",
       "L 2222 3053 \n",
       "L 1275 3053 \n",
       "L 1275 0 \n",
       "L 697 0 \n",
       "L 697 3053 \n",
       "L 147 3053 \n",
       "L 147 3500 \n",
       "L 697 3500 \n",
       "L 697 3744 \n",
       "Q 697 4328 969 4595 \n",
       "Q 1241 4863 1831 4863 \n",
       "L 2375 4863 \n",
       "z\n",
       "\" transform=\"scale(0.015625)\"/>\n",
       "       <path id=\"DejaVuSans-6e\" d=\"M 3513 2113 \n",
       "L 3513 0 \n",
       "L 2938 0 \n",
       "L 2938 2094 \n",
       "Q 2938 2591 2744 2837 \n",
       "Q 2550 3084 2163 3084 \n",
       "Q 1697 3084 1428 2787 \n",
       "Q 1159 2491 1159 1978 \n",
       "L 1159 0 \n",
       "L 581 0 \n",
       "L 581 3500 \n",
       "L 1159 3500 \n",
       "L 1159 2956 \n",
       "Q 1366 3272 1645 3428 \n",
       "Q 1925 3584 2291 3584 \n",
       "Q 2894 3584 3203 3211 \n",
       "Q 3513 2838 3513 2113 \n",
       "z\n",
       "\" transform=\"scale(0.015625)\"/>\n",
       "       <path id=\"DejaVuSans-69\" d=\"M 603 3500 \n",
       "L 1178 3500 \n",
       "L 1178 0 \n",
       "L 603 0 \n",
       "L 603 3500 \n",
       "z\n",
       "M 603 4863 \n",
       "L 1178 4863 \n",
       "L 1178 4134 \n",
       "L 603 4134 \n",
       "L 603 4863 \n",
       "z\n",
       "\" transform=\"scale(0.015625)\"/>\n",
       "       <path id=\"DejaVuSans-67\" d=\"M 2906 1791 \n",
       "Q 2906 2416 2648 2759 \n",
       "Q 2391 3103 1925 3103 \n",
       "Q 1463 3103 1205 2759 \n",
       "Q 947 2416 947 1791 \n",
       "Q 947 1169 1205 825 \n",
       "Q 1463 481 1925 481 \n",
       "Q 2391 481 2648 825 \n",
       "Q 2906 1169 2906 1791 \n",
       "z\n",
       "M 3481 434 \n",
       "Q 3481 -459 3084 -895 \n",
       "Q 2688 -1331 1869 -1331 \n",
       "Q 1566 -1331 1297 -1286 \n",
       "Q 1028 -1241 775 -1147 \n",
       "L 775 -588 \n",
       "Q 1028 -725 1275 -790 \n",
       "Q 1522 -856 1778 -856 \n",
       "Q 2344 -856 2625 -561 \n",
       "Q 2906 -266 2906 331 \n",
       "L 2906 616 \n",
       "Q 2728 306 2450 153 \n",
       "Q 2172 0 1784 0 \n",
       "Q 1141 0 747 490 \n",
       "Q 353 981 353 1791 \n",
       "Q 353 2603 747 3093 \n",
       "Q 1141 3584 1784 3584 \n",
       "Q 2172 3584 2450 3431 \n",
       "Q 2728 3278 2906 2969 \n",
       "L 2906 3500 \n",
       "L 3481 3500 \n",
       "L 3481 434 \n",
       "z\n",
       "\" transform=\"scale(0.015625)\"/>\n",
       "       <path id=\"DejaVuSans-68\" d=\"M 3513 2113 \n",
       "L 3513 0 \n",
       "L 2938 0 \n",
       "L 2938 2094 \n",
       "Q 2938 2591 2744 2837 \n",
       "Q 2550 3084 2163 3084 \n",
       "Q 1697 3084 1428 2787 \n",
       "Q 1159 2491 1159 1978 \n",
       "L 1159 0 \n",
       "L 581 0 \n",
       "L 581 4863 \n",
       "L 1159 4863 \n",
       "L 1159 2956 \n",
       "Q 1366 3272 1645 3428 \n",
       "Q 1925 3584 2291 3584 \n",
       "Q 2894 3584 3203 3211 \n",
       "Q 3513 2838 3513 2113 \n",
       "z\n",
       "\" transform=\"scale(0.015625)\"/>\n",
       "       <path id=\"DejaVuSans-73\" d=\"M 2834 3397 \n",
       "L 2834 2853 \n",
       "Q 2591 2978 2328 3040 \n",
       "Q 2066 3103 1784 3103 \n",
       "Q 1356 3103 1142 2972 \n",
       "Q 928 2841 928 2578 \n",
       "Q 928 2378 1081 2264 \n",
       "Q 1234 2150 1697 2047 \n",
       "L 1894 2003 \n",
       "Q 2506 1872 2764 1633 \n",
       "Q 3022 1394 3022 966 \n",
       "Q 3022 478 2636 193 \n",
       "Q 2250 -91 1575 -91 \n",
       "Q 1294 -91 989 -36 \n",
       "Q 684 19 347 128 \n",
       "L 347 722 \n",
       "Q 666 556 975 473 \n",
       "Q 1284 391 1588 391 \n",
       "Q 1994 391 2212 530 \n",
       "Q 2431 669 2431 922 \n",
       "Q 2431 1156 2273 1281 \n",
       "Q 2116 1406 1581 1522 \n",
       "L 1381 1569 \n",
       "Q 847 1681 609 1914 \n",
       "Q 372 2147 372 2553 \n",
       "Q 372 3047 722 3315 \n",
       "Q 1072 3584 1716 3584 \n",
       "Q 2034 3584 2315 3537 \n",
       "Q 2597 3491 2834 3397 \n",
       "z\n",
       "\" transform=\"scale(0.015625)\"/>\n",
       "      </defs>\n",
       "      <use xlink:href=\"#DejaVuSans-4e\"/>\n",
       "      <use xlink:href=\"#DejaVuSans-75\" x=\"74.804688\"/>\n",
       "      <use xlink:href=\"#DejaVuSans-6d\" x=\"138.183594\"/>\n",
       "      <use xlink:href=\"#DejaVuSans-62\" x=\"235.595703\"/>\n",
       "      <use xlink:href=\"#DejaVuSans-65\" x=\"299.072266\"/>\n",
       "      <use xlink:href=\"#DejaVuSans-72\" x=\"360.595703\"/>\n",
       "      <use xlink:href=\"#DejaVuSans-20\" x=\"401.708984\"/>\n",
       "      <use xlink:href=\"#DejaVuSans-6f\" x=\"433.496094\"/>\n",
       "      <use xlink:href=\"#DejaVuSans-66\" x=\"494.677734\"/>\n",
       "      <use xlink:href=\"#DejaVuSans-20\" x=\"529.882812\"/>\n",
       "      <use xlink:href=\"#DejaVuSans-6e\" x=\"561.669922\"/>\n",
       "      <use xlink:href=\"#DejaVuSans-65\" x=\"625.048828\"/>\n",
       "      <use xlink:href=\"#DejaVuSans-69\" x=\"686.572266\"/>\n",
       "      <use xlink:href=\"#DejaVuSans-67\" x=\"714.355469\"/>\n",
       "      <use xlink:href=\"#DejaVuSans-68\" x=\"777.832031\"/>\n",
       "      <use xlink:href=\"#DejaVuSans-62\" x=\"841.210938\"/>\n",
       "      <use xlink:href=\"#DejaVuSans-6f\" x=\"904.6875\"/>\n",
       "      <use xlink:href=\"#DejaVuSans-72\" x=\"965.869141\"/>\n",
       "      <use xlink:href=\"#DejaVuSans-73\" x=\"1006.982422\"/>\n",
       "     </g>\n",
       "    </g>\n",
       "   </g>\n",
       "   <g id=\"matplotlib.axis_2\">\n",
       "    <g id=\"ytick_1\">\n",
       "     <g id=\"line2d_11\">\n",
       "      <path d=\"M 58.441875 237.592355 \n",
       "L 393.241875 237.592355 \n",
       "\" clip-path=\"url(#p706faf7161)\" style=\"fill: none; stroke: #ffffff; stroke-width: 0.8; stroke-linecap: square\"/>\n",
       "     </g>\n",
       "     <g id=\"line2d_12\">\n",
       "      <defs>\n",
       "       <path id=\"m2cb1ada99a\" d=\"M 0 0 \n",
       "L -3.5 0 \n",
       "\" style=\"stroke: #555555; stroke-width: 0.8\"/>\n",
       "      </defs>\n",
       "      <g>\n",
       "       <use xlink:href=\"#m2cb1ada99a\" x=\"58.441875\" y=\"237.592355\" style=\"fill: #555555; stroke: #555555; stroke-width: 0.8\"/>\n",
       "      </g>\n",
       "     </g>\n",
       "     <g id=\"text_7\">\n",
       "      <!-- 0.828 -->\n",
       "      <g style=\"fill: #555555\" transform=\"translate(22.81375 241.391574)scale(0.1 -0.1)\">\n",
       "       <defs>\n",
       "        <path id=\"DejaVuSans-2e\" d=\"M 684 794 \n",
       "L 1344 794 \n",
       "L 1344 0 \n",
       "L 684 0 \n",
       "L 684 794 \n",
       "z\n",
       "\" transform=\"scale(0.015625)\"/>\n",
       "       </defs>\n",
       "       <use xlink:href=\"#DejaVuSans-30\"/>\n",
       "       <use xlink:href=\"#DejaVuSans-2e\" x=\"63.623047\"/>\n",
       "       <use xlink:href=\"#DejaVuSans-38\" x=\"95.410156\"/>\n",
       "       <use xlink:href=\"#DejaVuSans-32\" x=\"159.033203\"/>\n",
       "       <use xlink:href=\"#DejaVuSans-38\" x=\"222.65625\"/>\n",
       "      </g>\n",
       "     </g>\n",
       "    </g>\n",
       "    <g id=\"ytick_2\">\n",
       "     <g id=\"line2d_13\">\n",
       "      <path d=\"M 58.441875 206.180362 \n",
       "L 393.241875 206.180362 \n",
       "\" clip-path=\"url(#p706faf7161)\" style=\"fill: none; stroke: #ffffff; stroke-width: 0.8; stroke-linecap: square\"/>\n",
       "     </g>\n",
       "     <g id=\"line2d_14\">\n",
       "      <g>\n",
       "       <use xlink:href=\"#m2cb1ada99a\" x=\"58.441875\" y=\"206.180362\" style=\"fill: #555555; stroke: #555555; stroke-width: 0.8\"/>\n",
       "      </g>\n",
       "     </g>\n",
       "     <g id=\"text_8\">\n",
       "      <!-- 0.830 -->\n",
       "      <g style=\"fill: #555555\" transform=\"translate(22.81375 209.97958)scale(0.1 -0.1)\">\n",
       "       <defs>\n",
       "        <path id=\"DejaVuSans-33\" d=\"M 2597 2516 \n",
       "Q 3050 2419 3304 2112 \n",
       "Q 3559 1806 3559 1356 \n",
       "Q 3559 666 3084 287 \n",
       "Q 2609 -91 1734 -91 \n",
       "Q 1441 -91 1130 -33 \n",
       "Q 819 25 488 141 \n",
       "L 488 750 \n",
       "Q 750 597 1062 519 \n",
       "Q 1375 441 1716 441 \n",
       "Q 2309 441 2620 675 \n",
       "Q 2931 909 2931 1356 \n",
       "Q 2931 1769 2642 2001 \n",
       "Q 2353 2234 1838 2234 \n",
       "L 1294 2234 \n",
       "L 1294 2753 \n",
       "L 1863 2753 \n",
       "Q 2328 2753 2575 2939 \n",
       "Q 2822 3125 2822 3475 \n",
       "Q 2822 3834 2567 4026 \n",
       "Q 2313 4219 1838 4219 \n",
       "Q 1578 4219 1281 4162 \n",
       "Q 984 4106 628 3988 \n",
       "L 628 4550 \n",
       "Q 988 4650 1302 4700 \n",
       "Q 1616 4750 1894 4750 \n",
       "Q 2613 4750 3031 4423 \n",
       "Q 3450 4097 3450 3541 \n",
       "Q 3450 3153 3228 2886 \n",
       "Q 3006 2619 2597 2516 \n",
       "z\n",
       "\" transform=\"scale(0.015625)\"/>\n",
       "       </defs>\n",
       "       <use xlink:href=\"#DejaVuSans-30\"/>\n",
       "       <use xlink:href=\"#DejaVuSans-2e\" x=\"63.623047\"/>\n",
       "       <use xlink:href=\"#DejaVuSans-38\" x=\"95.410156\"/>\n",
       "       <use xlink:href=\"#DejaVuSans-33\" x=\"159.033203\"/>\n",
       "       <use xlink:href=\"#DejaVuSans-30\" x=\"222.65625\"/>\n",
       "      </g>\n",
       "     </g>\n",
       "    </g>\n",
       "    <g id=\"ytick_3\">\n",
       "     <g id=\"line2d_15\">\n",
       "      <path d=\"M 58.441875 174.768368 \n",
       "L 393.241875 174.768368 \n",
       "\" clip-path=\"url(#p706faf7161)\" style=\"fill: none; stroke: #ffffff; stroke-width: 0.8; stroke-linecap: square\"/>\n",
       "     </g>\n",
       "     <g id=\"line2d_16\">\n",
       "      <g>\n",
       "       <use xlink:href=\"#m2cb1ada99a\" x=\"58.441875\" y=\"174.768368\" style=\"fill: #555555; stroke: #555555; stroke-width: 0.8\"/>\n",
       "      </g>\n",
       "     </g>\n",
       "     <g id=\"text_9\">\n",
       "      <!-- 0.832 -->\n",
       "      <g style=\"fill: #555555\" transform=\"translate(22.81375 178.567587)scale(0.1 -0.1)\">\n",
       "       <use xlink:href=\"#DejaVuSans-30\"/>\n",
       "       <use xlink:href=\"#DejaVuSans-2e\" x=\"63.623047\"/>\n",
       "       <use xlink:href=\"#DejaVuSans-38\" x=\"95.410156\"/>\n",
       "       <use xlink:href=\"#DejaVuSans-33\" x=\"159.033203\"/>\n",
       "       <use xlink:href=\"#DejaVuSans-32\" x=\"222.65625\"/>\n",
       "      </g>\n",
       "     </g>\n",
       "    </g>\n",
       "    <g id=\"ytick_4\">\n",
       "     <g id=\"line2d_17\">\n",
       "      <path d=\"M 58.441875 143.356375 \n",
       "L 393.241875 143.356375 \n",
       "\" clip-path=\"url(#p706faf7161)\" style=\"fill: none; stroke: #ffffff; stroke-width: 0.8; stroke-linecap: square\"/>\n",
       "     </g>\n",
       "     <g id=\"line2d_18\">\n",
       "      <g>\n",
       "       <use xlink:href=\"#m2cb1ada99a\" x=\"58.441875\" y=\"143.356375\" style=\"fill: #555555; stroke: #555555; stroke-width: 0.8\"/>\n",
       "      </g>\n",
       "     </g>\n",
       "     <g id=\"text_10\">\n",
       "      <!-- 0.834 -->\n",
       "      <g style=\"fill: #555555\" transform=\"translate(22.81375 147.155594)scale(0.1 -0.1)\">\n",
       "       <use xlink:href=\"#DejaVuSans-30\"/>\n",
       "       <use xlink:href=\"#DejaVuSans-2e\" x=\"63.623047\"/>\n",
       "       <use xlink:href=\"#DejaVuSans-38\" x=\"95.410156\"/>\n",
       "       <use xlink:href=\"#DejaVuSans-33\" x=\"159.033203\"/>\n",
       "       <use xlink:href=\"#DejaVuSans-34\" x=\"222.65625\"/>\n",
       "      </g>\n",
       "     </g>\n",
       "    </g>\n",
       "    <g id=\"ytick_5\">\n",
       "     <g id=\"line2d_19\">\n",
       "      <path d=\"M 58.441875 111.944381 \n",
       "L 393.241875 111.944381 \n",
       "\" clip-path=\"url(#p706faf7161)\" style=\"fill: none; stroke: #ffffff; stroke-width: 0.8; stroke-linecap: square\"/>\n",
       "     </g>\n",
       "     <g id=\"line2d_20\">\n",
       "      <g>\n",
       "       <use xlink:href=\"#m2cb1ada99a\" x=\"58.441875\" y=\"111.944381\" style=\"fill: #555555; stroke: #555555; stroke-width: 0.8\"/>\n",
       "      </g>\n",
       "     </g>\n",
       "     <g id=\"text_11\">\n",
       "      <!-- 0.836 -->\n",
       "      <g style=\"fill: #555555\" transform=\"translate(22.81375 115.7436)scale(0.1 -0.1)\">\n",
       "       <use xlink:href=\"#DejaVuSans-30\"/>\n",
       "       <use xlink:href=\"#DejaVuSans-2e\" x=\"63.623047\"/>\n",
       "       <use xlink:href=\"#DejaVuSans-38\" x=\"95.410156\"/>\n",
       "       <use xlink:href=\"#DejaVuSans-33\" x=\"159.033203\"/>\n",
       "       <use xlink:href=\"#DejaVuSans-36\" x=\"222.65625\"/>\n",
       "      </g>\n",
       "     </g>\n",
       "    </g>\n",
       "    <g id=\"ytick_6\">\n",
       "     <g id=\"line2d_21\">\n",
       "      <path d=\"M 58.441875 80.532388 \n",
       "L 393.241875 80.532388 \n",
       "\" clip-path=\"url(#p706faf7161)\" style=\"fill: none; stroke: #ffffff; stroke-width: 0.8; stroke-linecap: square\"/>\n",
       "     </g>\n",
       "     <g id=\"line2d_22\">\n",
       "      <g>\n",
       "       <use xlink:href=\"#m2cb1ada99a\" x=\"58.441875\" y=\"80.532388\" style=\"fill: #555555; stroke: #555555; stroke-width: 0.8\"/>\n",
       "      </g>\n",
       "     </g>\n",
       "     <g id=\"text_12\">\n",
       "      <!-- 0.838 -->\n",
       "      <g style=\"fill: #555555\" transform=\"translate(22.81375 84.331607)scale(0.1 -0.1)\">\n",
       "       <use xlink:href=\"#DejaVuSans-30\"/>\n",
       "       <use xlink:href=\"#DejaVuSans-2e\" x=\"63.623047\"/>\n",
       "       <use xlink:href=\"#DejaVuSans-38\" x=\"95.410156\"/>\n",
       "       <use xlink:href=\"#DejaVuSans-33\" x=\"159.033203\"/>\n",
       "       <use xlink:href=\"#DejaVuSans-38\" x=\"222.65625\"/>\n",
       "      </g>\n",
       "     </g>\n",
       "    </g>\n",
       "    <g id=\"ytick_7\">\n",
       "     <g id=\"line2d_23\">\n",
       "      <path d=\"M 58.441875 49.120395 \n",
       "L 393.241875 49.120395 \n",
       "\" clip-path=\"url(#p706faf7161)\" style=\"fill: none; stroke: #ffffff; stroke-width: 0.8; stroke-linecap: square\"/>\n",
       "     </g>\n",
       "     <g id=\"line2d_24\">\n",
       "      <g>\n",
       "       <use xlink:href=\"#m2cb1ada99a\" x=\"58.441875\" y=\"49.120395\" style=\"fill: #555555; stroke: #555555; stroke-width: 0.8\"/>\n",
       "      </g>\n",
       "     </g>\n",
       "     <g id=\"text_13\">\n",
       "      <!-- 0.840 -->\n",
       "      <g style=\"fill: #555555\" transform=\"translate(22.81375 52.919613)scale(0.1 -0.1)\">\n",
       "       <use xlink:href=\"#DejaVuSans-30\"/>\n",
       "       <use xlink:href=\"#DejaVuSans-2e\" x=\"63.623047\"/>\n",
       "       <use xlink:href=\"#DejaVuSans-38\" x=\"95.410156\"/>\n",
       "       <use xlink:href=\"#DejaVuSans-34\" x=\"159.033203\"/>\n",
       "       <use xlink:href=\"#DejaVuSans-30\" x=\"222.65625\"/>\n",
       "      </g>\n",
       "     </g>\n",
       "    </g>\n",
       "    <g id=\"text_14\">\n",
       "     <!-- Accuracy -->\n",
       "     <g style=\"fill: #555555\" transform=\"translate(16.318125 160.2555)rotate(-90)scale(0.12 -0.12)\">\n",
       "      <defs>\n",
       "       <path id=\"DejaVuSans-41\" d=\"M 2188 4044 \n",
       "L 1331 1722 \n",
       "L 3047 1722 \n",
       "L 2188 4044 \n",
       "z\n",
       "M 1831 4666 \n",
       "L 2547 4666 \n",
       "L 4325 0 \n",
       "L 3669 0 \n",
       "L 3244 1197 \n",
       "L 1141 1197 \n",
       "L 716 0 \n",
       "L 50 0 \n",
       "L 1831 4666 \n",
       "z\n",
       "\" transform=\"scale(0.015625)\"/>\n",
       "       <path id=\"DejaVuSans-63\" d=\"M 3122 3366 \n",
       "L 3122 2828 \n",
       "Q 2878 2963 2633 3030 \n",
       "Q 2388 3097 2138 3097 \n",
       "Q 1578 3097 1268 2742 \n",
       "Q 959 2388 959 1747 \n",
       "Q 959 1106 1268 751 \n",
       "Q 1578 397 2138 397 \n",
       "Q 2388 397 2633 464 \n",
       "Q 2878 531 3122 666 \n",
       "L 3122 134 \n",
       "Q 2881 22 2623 -34 \n",
       "Q 2366 -91 2075 -91 \n",
       "Q 1284 -91 818 406 \n",
       "Q 353 903 353 1747 \n",
       "Q 353 2603 823 3093 \n",
       "Q 1294 3584 2113 3584 \n",
       "Q 2378 3584 2631 3529 \n",
       "Q 2884 3475 3122 3366 \n",
       "z\n",
       "\" transform=\"scale(0.015625)\"/>\n",
       "       <path id=\"DejaVuSans-61\" d=\"M 2194 1759 \n",
       "Q 1497 1759 1228 1600 \n",
       "Q 959 1441 959 1056 \n",
       "Q 959 750 1161 570 \n",
       "Q 1363 391 1709 391 \n",
       "Q 2188 391 2477 730 \n",
       "Q 2766 1069 2766 1631 \n",
       "L 2766 1759 \n",
       "L 2194 1759 \n",
       "z\n",
       "M 3341 1997 \n",
       "L 3341 0 \n",
       "L 2766 0 \n",
       "L 2766 531 \n",
       "Q 2569 213 2275 61 \n",
       "Q 1981 -91 1556 -91 \n",
       "Q 1019 -91 701 211 \n",
       "Q 384 513 384 1019 \n",
       "Q 384 1609 779 1909 \n",
       "Q 1175 2209 1959 2209 \n",
       "L 2766 2209 \n",
       "L 2766 2266 \n",
       "Q 2766 2663 2505 2880 \n",
       "Q 2244 3097 1772 3097 \n",
       "Q 1472 3097 1187 3025 \n",
       "Q 903 2953 641 2809 \n",
       "L 641 3341 \n",
       "Q 956 3463 1253 3523 \n",
       "Q 1550 3584 1831 3584 \n",
       "Q 2591 3584 2966 3190 \n",
       "Q 3341 2797 3341 1997 \n",
       "z\n",
       "\" transform=\"scale(0.015625)\"/>\n",
       "       <path id=\"DejaVuSans-79\" d=\"M 2059 -325 \n",
       "Q 1816 -950 1584 -1140 \n",
       "Q 1353 -1331 966 -1331 \n",
       "L 506 -1331 \n",
       "L 506 -850 \n",
       "L 844 -850 \n",
       "Q 1081 -850 1212 -737 \n",
       "Q 1344 -625 1503 -206 \n",
       "L 1606 56 \n",
       "L 191 3500 \n",
       "L 800 3500 \n",
       "L 1894 763 \n",
       "L 2988 3500 \n",
       "L 3597 3500 \n",
       "L 2059 -325 \n",
       "z\n",
       "\" transform=\"scale(0.015625)\"/>\n",
       "      </defs>\n",
       "      <use xlink:href=\"#DejaVuSans-41\"/>\n",
       "      <use xlink:href=\"#DejaVuSans-63\" x=\"66.658203\"/>\n",
       "      <use xlink:href=\"#DejaVuSans-63\" x=\"121.638672\"/>\n",
       "      <use xlink:href=\"#DejaVuSans-75\" x=\"176.619141\"/>\n",
       "      <use xlink:href=\"#DejaVuSans-72\" x=\"239.998047\"/>\n",
       "      <use xlink:href=\"#DejaVuSans-61\" x=\"281.111328\"/>\n",
       "      <use xlink:href=\"#DejaVuSans-63\" x=\"342.390625\"/>\n",
       "      <use xlink:href=\"#DejaVuSans-79\" x=\"397.371094\"/>\n",
       "     </g>\n",
       "    </g>\n",
       "   </g>\n",
       "   <g id=\"line2d_25\">\n",
       "    <path d=\"M 73.660057 213.727866 \n",
       "L 107.478239 177.78737 \n",
       "L 141.29642 141.846874 \n",
       "L 175.114602 195.757618 \n",
       "L 208.932784 123.876626 \n",
       "L 242.750966 231.698114 \n",
       "L 276.569148 105.906378 \n",
       "L 310.38733 34.025386 \n",
       "L 344.205511 123.876626 \n",
       "L 378.023693 123.876626 \n",
       "\" clip-path=\"url(#p706faf7161)\" style=\"fill: none; stroke: #32cd32; stroke-width: 1.5; stroke-linecap: square\"/>\n",
       "   </g>\n",
       "   <g id=\"line2d_26\">\n",
       "    <path d=\"M 73.660057 58.947878 \n",
       "L 107.478239 100.894455 \n",
       "L 141.29642 52.95551 \n",
       "L 175.114602 100.894455 \n",
       "L 208.932784 100.894455 \n",
       "L 242.750966 124.863927 \n",
       "L 276.569148 100.894455 \n",
       "L 310.38733 82.917351 \n",
       "L 344.205511 64.940246 \n",
       "L 378.023693 64.940246 \n",
       "\" clip-path=\"url(#p706faf7161)\" style=\"fill: none; stroke: #808080; stroke-width: 1.5; stroke-linecap: square\"/>\n",
       "   </g>\n",
       "   <g id=\"patch_3\">\n",
       "    <path d=\"M 58.441875 241.58175 \n",
       "L 58.441875 24.14175 \n",
       "\" style=\"fill: none; stroke: #ffffff; stroke-linejoin: miter; stroke-linecap: square\"/>\n",
       "   </g>\n",
       "   <g id=\"patch_4\">\n",
       "    <path d=\"M 393.241875 241.58175 \n",
       "L 393.241875 24.14175 \n",
       "\" style=\"fill: none; stroke: #ffffff; stroke-linejoin: miter; stroke-linecap: square\"/>\n",
       "   </g>\n",
       "   <g id=\"patch_5\">\n",
       "    <path d=\"M 58.441875 241.58175 \n",
       "L 393.241875 241.58175 \n",
       "\" style=\"fill: none; stroke: #ffffff; stroke-linejoin: miter; stroke-linecap: square\"/>\n",
       "   </g>\n",
       "   <g id=\"patch_6\">\n",
       "    <path d=\"M 58.441875 24.14175 \n",
       "L 393.241875 24.14175 \n",
       "\" style=\"fill: none; stroke: #ffffff; stroke-linejoin: miter; stroke-linecap: square\"/>\n",
       "   </g>\n",
       "   <g id=\"text_15\">\n",
       "    <!-- k-NN Varying number of neighbors -->\n",
       "    <g transform=\"translate(101.15925 18.14175)scale(0.144 -0.144)\">\n",
       "     <defs>\n",
       "      <path id=\"DejaVuSans-6b\" d=\"M 581 4863 \n",
       "L 1159 4863 \n",
       "L 1159 1991 \n",
       "L 2875 3500 \n",
       "L 3609 3500 \n",
       "L 1753 1863 \n",
       "L 3688 0 \n",
       "L 2938 0 \n",
       "L 1159 1709 \n",
       "L 1159 0 \n",
       "L 581 0 \n",
       "L 581 4863 \n",
       "z\n",
       "\" transform=\"scale(0.015625)\"/>\n",
       "      <path id=\"DejaVuSans-2d\" d=\"M 313 2009 \n",
       "L 1997 2009 \n",
       "L 1997 1497 \n",
       "L 313 1497 \n",
       "L 313 2009 \n",
       "z\n",
       "\" transform=\"scale(0.015625)\"/>\n",
       "      <path id=\"DejaVuSans-56\" d=\"M 1831 0 \n",
       "L 50 4666 \n",
       "L 709 4666 \n",
       "L 2188 738 \n",
       "L 3669 4666 \n",
       "L 4325 4666 \n",
       "L 2547 0 \n",
       "L 1831 0 \n",
       "z\n",
       "\" transform=\"scale(0.015625)\"/>\n",
       "     </defs>\n",
       "     <use xlink:href=\"#DejaVuSans-6b\"/>\n",
       "     <use xlink:href=\"#DejaVuSans-2d\" x=\"57.910156\"/>\n",
       "     <use xlink:href=\"#DejaVuSans-4e\" x=\"93.994141\"/>\n",
       "     <use xlink:href=\"#DejaVuSans-4e\" x=\"168.798828\"/>\n",
       "     <use xlink:href=\"#DejaVuSans-20\" x=\"243.603516\"/>\n",
       "     <use xlink:href=\"#DejaVuSans-56\" x=\"275.390625\"/>\n",
       "     <use xlink:href=\"#DejaVuSans-61\" x=\"336.048828\"/>\n",
       "     <use xlink:href=\"#DejaVuSans-72\" x=\"397.328125\"/>\n",
       "     <use xlink:href=\"#DejaVuSans-79\" x=\"438.441406\"/>\n",
       "     <use xlink:href=\"#DejaVuSans-69\" x=\"497.621094\"/>\n",
       "     <use xlink:href=\"#DejaVuSans-6e\" x=\"525.404297\"/>\n",
       "     <use xlink:href=\"#DejaVuSans-67\" x=\"588.783203\"/>\n",
       "     <use xlink:href=\"#DejaVuSans-20\" x=\"652.259766\"/>\n",
       "     <use xlink:href=\"#DejaVuSans-6e\" x=\"684.046875\"/>\n",
       "     <use xlink:href=\"#DejaVuSans-75\" x=\"747.425781\"/>\n",
       "     <use xlink:href=\"#DejaVuSans-6d\" x=\"810.804688\"/>\n",
       "     <use xlink:href=\"#DejaVuSans-62\" x=\"908.216797\"/>\n",
       "     <use xlink:href=\"#DejaVuSans-65\" x=\"971.693359\"/>\n",
       "     <use xlink:href=\"#DejaVuSans-72\" x=\"1033.216797\"/>\n",
       "     <use xlink:href=\"#DejaVuSans-20\" x=\"1074.330078\"/>\n",
       "     <use xlink:href=\"#DejaVuSans-6f\" x=\"1106.117188\"/>\n",
       "     <use xlink:href=\"#DejaVuSans-66\" x=\"1167.298828\"/>\n",
       "     <use xlink:href=\"#DejaVuSans-20\" x=\"1202.503906\"/>\n",
       "     <use xlink:href=\"#DejaVuSans-6e\" x=\"1234.291016\"/>\n",
       "     <use xlink:href=\"#DejaVuSans-65\" x=\"1297.669922\"/>\n",
       "     <use xlink:href=\"#DejaVuSans-69\" x=\"1359.193359\"/>\n",
       "     <use xlink:href=\"#DejaVuSans-67\" x=\"1386.976562\"/>\n",
       "     <use xlink:href=\"#DejaVuSans-68\" x=\"1450.453125\"/>\n",
       "     <use xlink:href=\"#DejaVuSans-62\" x=\"1513.832031\"/>\n",
       "     <use xlink:href=\"#DejaVuSans-6f\" x=\"1577.308594\"/>\n",
       "     <use xlink:href=\"#DejaVuSans-72\" x=\"1638.490234\"/>\n",
       "     <use xlink:href=\"#DejaVuSans-73\" x=\"1679.603516\"/>\n",
       "    </g>\n",
       "   </g>\n",
       "   <g id=\"legend_1\">\n",
       "    <g id=\"patch_7\">\n",
       "     <path d=\"M 266.493437 236.58175 \n",
       "L 386.241875 236.58175 \n",
       "Q 388.241875 236.58175 388.241875 234.58175 \n",
       "L 388.241875 206.2255 \n",
       "Q 388.241875 204.2255 386.241875 204.2255 \n",
       "L 266.493437 204.2255 \n",
       "Q 264.493437 204.2255 264.493437 206.2255 \n",
       "L 264.493437 234.58175 \n",
       "Q 264.493437 236.58175 266.493437 236.58175 \n",
       "z\n",
       "\" style=\"fill: #e5e5e5; opacity: 0.8; stroke: #cccccc; stroke-width: 0.5; stroke-linejoin: miter\"/>\n",
       "    </g>\n",
       "    <g id=\"line2d_27\">\n",
       "     <path d=\"M 268.493437 212.323937 \n",
       "L 278.493437 212.323937 \n",
       "L 288.493437 212.323937 \n",
       "\" style=\"fill: none; stroke: #32cd32; stroke-width: 1.5; stroke-linecap: square\"/>\n",
       "    </g>\n",
       "    <g id=\"text_16\">\n",
       "     <!-- Testing Accuracy -->\n",
       "     <g transform=\"translate(296.493437 215.823937)scale(0.1 -0.1)\">\n",
       "      <defs>\n",
       "       <path id=\"DejaVuSans-54\" d=\"M -19 4666 \n",
       "L 3928 4666 \n",
       "L 3928 4134 \n",
       "L 2272 4134 \n",
       "L 2272 0 \n",
       "L 1638 0 \n",
       "L 1638 4134 \n",
       "L -19 4134 \n",
       "L -19 4666 \n",
       "z\n",
       "\" transform=\"scale(0.015625)\"/>\n",
       "       <path id=\"DejaVuSans-74\" d=\"M 1172 4494 \n",
       "L 1172 3500 \n",
       "L 2356 3500 \n",
       "L 2356 3053 \n",
       "L 1172 3053 \n",
       "L 1172 1153 \n",
       "Q 1172 725 1289 603 \n",
       "Q 1406 481 1766 481 \n",
       "L 2356 481 \n",
       "L 2356 0 \n",
       "L 1766 0 \n",
       "Q 1100 0 847 248 \n",
       "Q 594 497 594 1153 \n",
       "L 594 3053 \n",
       "L 172 3053 \n",
       "L 172 3500 \n",
       "L 594 3500 \n",
       "L 594 4494 \n",
       "L 1172 4494 \n",
       "z\n",
       "\" transform=\"scale(0.015625)\"/>\n",
       "      </defs>\n",
       "      <use xlink:href=\"#DejaVuSans-54\"/>\n",
       "      <use xlink:href=\"#DejaVuSans-65\" x=\"44.083984\"/>\n",
       "      <use xlink:href=\"#DejaVuSans-73\" x=\"105.607422\"/>\n",
       "      <use xlink:href=\"#DejaVuSans-74\" x=\"157.707031\"/>\n",
       "      <use xlink:href=\"#DejaVuSans-69\" x=\"196.916016\"/>\n",
       "      <use xlink:href=\"#DejaVuSans-6e\" x=\"224.699219\"/>\n",
       "      <use xlink:href=\"#DejaVuSans-67\" x=\"288.078125\"/>\n",
       "      <use xlink:href=\"#DejaVuSans-20\" x=\"351.554688\"/>\n",
       "      <use xlink:href=\"#DejaVuSans-41\" x=\"383.341797\"/>\n",
       "      <use xlink:href=\"#DejaVuSans-63\" x=\"450\"/>\n",
       "      <use xlink:href=\"#DejaVuSans-63\" x=\"504.980469\"/>\n",
       "      <use xlink:href=\"#DejaVuSans-75\" x=\"559.960938\"/>\n",
       "      <use xlink:href=\"#DejaVuSans-72\" x=\"623.339844\"/>\n",
       "      <use xlink:href=\"#DejaVuSans-61\" x=\"664.453125\"/>\n",
       "      <use xlink:href=\"#DejaVuSans-63\" x=\"725.732422\"/>\n",
       "      <use xlink:href=\"#DejaVuSans-79\" x=\"780.712891\"/>\n",
       "     </g>\n",
       "    </g>\n",
       "    <g id=\"line2d_28\">\n",
       "     <path d=\"M 268.493437 227.002062 \n",
       "L 278.493437 227.002062 \n",
       "L 288.493437 227.002062 \n",
       "\" style=\"fill: none; stroke: #808080; stroke-width: 1.5; stroke-linecap: square\"/>\n",
       "    </g>\n",
       "    <g id=\"text_17\">\n",
       "     <!-- Training accuracy -->\n",
       "     <g transform=\"translate(296.493437 230.502062)scale(0.1 -0.1)\">\n",
       "      <use xlink:href=\"#DejaVuSans-54\"/>\n",
       "      <use xlink:href=\"#DejaVuSans-72\" x=\"46.333984\"/>\n",
       "      <use xlink:href=\"#DejaVuSans-61\" x=\"87.447266\"/>\n",
       "      <use xlink:href=\"#DejaVuSans-69\" x=\"148.726562\"/>\n",
       "      <use xlink:href=\"#DejaVuSans-6e\" x=\"176.509766\"/>\n",
       "      <use xlink:href=\"#DejaVuSans-69\" x=\"239.888672\"/>\n",
       "      <use xlink:href=\"#DejaVuSans-6e\" x=\"267.671875\"/>\n",
       "      <use xlink:href=\"#DejaVuSans-67\" x=\"331.050781\"/>\n",
       "      <use xlink:href=\"#DejaVuSans-20\" x=\"394.527344\"/>\n",
       "      <use xlink:href=\"#DejaVuSans-61\" x=\"426.314453\"/>\n",
       "      <use xlink:href=\"#DejaVuSans-63\" x=\"487.59375\"/>\n",
       "      <use xlink:href=\"#DejaVuSans-63\" x=\"542.574219\"/>\n",
       "      <use xlink:href=\"#DejaVuSans-75\" x=\"597.554688\"/>\n",
       "      <use xlink:href=\"#DejaVuSans-72\" x=\"660.933594\"/>\n",
       "      <use xlink:href=\"#DejaVuSans-61\" x=\"702.046875\"/>\n",
       "      <use xlink:href=\"#DejaVuSans-63\" x=\"763.326172\"/>\n",
       "      <use xlink:href=\"#DejaVuSans-79\" x=\"818.306641\"/>\n",
       "     </g>\n",
       "    </g>\n",
       "   </g>\n",
       "  </g>\n",
       " </g>\n",
       " <defs>\n",
       "  <clipPath id=\"p706faf7161\">\n",
       "   <rect x=\"58.441875\" y=\"24.14175\" width=\"334.8\" height=\"217.44\"/>\n",
       "  </clipPath>\n",
       " </defs>\n",
       "</svg>\n"
      ],
      "text/plain": [
       "<Figure size 432x288 with 1 Axes>"
      ]
     },
     "metadata": {},
     "output_type": "display_data"
    }
   ],
   "source": [
    "display(plot1)"
   ]
  },
  {
   "cell_type": "code",
   "execution_count": 37,
   "id": "51e4b436-68be-433c-b6f3-c22a375e6fb0",
   "metadata": {
    "extensions": {
     "jupyter_dashboards": {
      "activeView": "grid_default",
      "views": {
       "grid_default": {
        "col": 2,
        "height": 2,
        "hidden": false,
        "row": 9,
        "width": 3
       }
      }
     }
    }
   },
   "outputs": [
    {
     "data": {
      "text/markdown": [
       "## Model Accuracy"
      ],
      "text/plain": [
       "<IPython.core.display.Markdown object>"
      ]
     },
     "metadata": {},
     "output_type": "display_data"
    }
   ],
   "source": [
    "display(Markdown('## Model Accuracy'))"
   ]
  },
  {
   "cell_type": "code",
   "execution_count": 38,
   "id": "5d7ae5a1-cd5a-4ac4-92dd-26cefb3bd87e",
   "metadata": {
    "extensions": {
     "jupyter_dashboards": {
      "activeView": "grid_default",
      "views": {
       "grid_default": {
        "col": 2,
        "height": 5,
        "hidden": false,
        "row": 11,
        "width": 2
       }
      }
     }
    }
   },
   "outputs": [
    {
     "data": {
      "text/html": [
       "<div>\n",
       "<style scoped>\n",
       "    .dataframe tbody tr th:only-of-type {\n",
       "        vertical-align: middle;\n",
       "    }\n",
       "\n",
       "    .dataframe tbody tr th {\n",
       "        vertical-align: top;\n",
       "    }\n",
       "\n",
       "    .dataframe thead th {\n",
       "        text-align: right;\n",
       "    }\n",
       "</style>\n",
       "<table border=\"1\" class=\"dataframe\">\n",
       "  <thead>\n",
       "    <tr style=\"text-align: right;\">\n",
       "      <th>Predicted</th>\n",
       "      <th>0</th>\n",
       "      <th>1</th>\n",
       "      <th>All</th>\n",
       "    </tr>\n",
       "    <tr>\n",
       "      <th>True</th>\n",
       "      <th></th>\n",
       "      <th></th>\n",
       "      <th></th>\n",
       "    </tr>\n",
       "  </thead>\n",
       "  <tbody>\n",
       "    <tr>\n",
       "      <th>0</th>\n",
       "      <td>331</td>\n",
       "      <td>67</td>\n",
       "      <td>398</td>\n",
       "    </tr>\n",
       "    <tr>\n",
       "      <th>1</th>\n",
       "      <td>76</td>\n",
       "      <td>400</td>\n",
       "      <td>476</td>\n",
       "    </tr>\n",
       "    <tr>\n",
       "      <th>All</th>\n",
       "      <td>407</td>\n",
       "      <td>467</td>\n",
       "      <td>874</td>\n",
       "    </tr>\n",
       "  </tbody>\n",
       "</table>\n",
       "</div>"
      ],
      "text/plain": [
       "Predicted    0    1  All\n",
       "True                    \n",
       "0          331   67  398\n",
       "1           76  400  476\n",
       "All        407  467  874"
      ]
     },
     "metadata": {},
     "output_type": "display_data"
    }
   ],
   "source": [
    "display(crosstab)"
   ]
  },
  {
   "cell_type": "code",
   "execution_count": 39,
   "id": "e2e5ef74-60ce-48fd-bb09-f5c732334868",
   "metadata": {
    "extensions": {
     "jupyter_dashboards": {
      "activeView": "grid_default",
      "views": {
       "grid_default": {
        "col": 1,
        "height": 10,
        "hidden": false,
        "row": 16,
        "width": 4
       }
      }
     }
    }
   },
   "outputs": [
    {
     "data": {
      "image/svg+xml": [
       "<?xml version=\"1.0\" encoding=\"utf-8\" standalone=\"no\"?>\n",
       "<!DOCTYPE svg PUBLIC \"-//W3C//DTD SVG 1.1//EN\"\n",
       "  \"http://www.w3.org/Graphics/SVG/1.1/DTD/svg11.dtd\">\n",
       "<svg xmlns:xlink=\"http://www.w3.org/1999/xlink\" width=\"349.2pt\" height=\"231.84pt\" viewBox=\"0 0 349.2 231.84\" xmlns=\"http://www.w3.org/2000/svg\" version=\"1.1\">\n",
       " <metadata>\n",
       "  <rdf:RDF xmlns:dc=\"http://purl.org/dc/elements/1.1/\" xmlns:cc=\"http://creativecommons.org/ns#\" xmlns:rdf=\"http://www.w3.org/1999/02/22-rdf-syntax-ns#\">\n",
       "   <cc:Work>\n",
       "    <dc:type rdf:resource=\"http://purl.org/dc/dcmitype/StillImage\"/>\n",
       "    <dc:date>2022-01-12T16:01:10.929096</dc:date>\n",
       "    <dc:format>image/svg+xml</dc:format>\n",
       "    <dc:creator>\n",
       "     <cc:Agent>\n",
       "      <dc:title>Matplotlib v3.5.0, https://matplotlib.org/</dc:title>\n",
       "     </cc:Agent>\n",
       "    </dc:creator>\n",
       "   </cc:Work>\n",
       "  </rdf:RDF>\n",
       " </metadata>\n",
       " <defs>\n",
       "  <style type=\"text/css\">*{stroke-linejoin: round; stroke-linecap: butt}</style>\n",
       " </defs>\n",
       " <g id=\"figure_1\">\n",
       "  <g id=\"patch_1\">\n",
       "   <path d=\"M 0 231.84 \n",
       "L 349.2 231.84 \n",
       "L 349.2 0 \n",
       "L 0 0 \n",
       "z\n",
       "\" style=\"fill: #ffffff\"/>\n",
       "  </g>\n",
       "  <g id=\"axes_1\">\n",
       "   <g id=\"matplotlib.axis_1\"/>\n",
       "   <g id=\"matplotlib.axis_2\"/>\n",
       "   <g id=\"patch_2\">\n",
       "    <path d=\"M 172.677189 27.198924 \n",
       "C 162.311554 27.198924 152.016241 28.905023 142.204708 32.248705 \n",
       "C 132.393175 35.592388 123.198548 40.528285 114.990082 46.858172 \n",
       "C 106.781616 53.188059 99.670685 60.82605 93.942864 69.465404 \n",
       "C 88.215043 78.104759 83.948047 87.628256 81.31324 97.653433 \n",
       "C 78.678433 107.67861 77.711564 118.069443 78.451461 128.408637 \n",
       "C 79.191359 138.747831 81.627985 148.895102 85.663484 158.442936 \n",
       "C 89.698983 167.99077 95.278601 176.809619 102.178261 184.545321 \n",
       "C 109.077921 192.281022 117.204007 198.828616 126.230175 203.92515 \n",
       "C 135.256344 209.021685 145.060126 212.59801 155.247803 214.5105 \n",
       "C 165.43548 216.422991 175.868823 216.645697 186.128831 215.169677 \n",
       "C 196.388838 213.693656 206.336299 210.538934 215.571725 205.832206 \n",
       "C 224.80715 201.125477 233.205232 194.930603 240.428705 187.496369 \n",
       "C 247.652177 180.062136 253.60303 171.489412 258.042278 162.122477 \n",
       "C 262.481525 152.755542 265.348935 142.72149 266.529352 132.423286 \n",
       "C 267.709769 122.125082 267.187177 111.702456 264.982563 101.573978 \n",
       "C 262.777949 91.4455 258.921226 81.748597 253.567279 72.872695 \n",
       "L 172.677189 121.665616 \n",
       "L 172.677189 27.198924 \n",
       "z\n",
       "\" style=\"fill: #0f3e0f; opacity: 0.5; stroke: #0f3e0f; stroke-width: 0.5; stroke-linejoin: miter\"/>\n",
       "   </g>\n",
       "   <g id=\"patch_3\">\n",
       "    <path d=\"M 258.211981 64.646741 \n",
       "C 249.806167 50.711378 237.940194 39.181806 223.768911 31.180133 \n",
       "C 209.597627 23.178459 193.596183 18.972973 177.321908 18.97297 \n",
       "L 177.32189 113.439663 \n",
       "L 258.211981 64.646741 \n",
       "z\n",
       "\" style=\"fill: #262626; opacity: 0.5; stroke: #262626; stroke-width: 0.5; stroke-linejoin: miter\"/>\n",
       "   </g>\n",
       "   <g id=\"patch_4\">\n",
       "    <path d=\"M 174.566522 25.30959 \n",
       "C 164.200888 25.30959 153.905575 27.015689 144.094042 30.359372 \n",
       "C 134.282509 33.703054 125.087882 38.638951 116.879416 44.968838 \n",
       "C 108.67095 51.298725 101.560019 58.936716 95.832198 67.57607 \n",
       "C 90.104377 76.215425 85.837381 85.738922 83.202574 95.764099 \n",
       "C 80.567767 105.789276 79.600897 116.180109 80.340795 126.519303 \n",
       "C 81.080693 136.858498 83.517319 147.005768 87.552818 156.553602 \n",
       "C 91.588317 166.101436 97.167935 174.920285 104.067595 182.655987 \n",
       "C 110.967255 190.391688 119.093341 196.939282 128.119509 202.035816 \n",
       "C 137.145678 207.132351 146.94946 210.708676 157.137137 212.621167 \n",
       "C 167.324814 214.533657 177.758157 214.756364 188.018164 213.280343 \n",
       "C 198.278172 211.804322 208.225633 208.649601 217.461058 203.942872 \n",
       "C 226.696484 199.236143 235.094566 193.041269 242.318039 185.607035 \n",
       "C 249.541511 178.172802 255.492364 169.600078 259.931611 160.233143 \n",
       "C 264.370859 150.866208 267.238269 140.832156 268.418686 130.533952 \n",
       "C 269.599103 120.235748 269.07651 109.813122 266.871896 99.684644 \n",
       "C 264.667283 89.556166 260.81056 79.859263 255.456613 70.983361 \n",
       "L 174.566522 119.776282 \n",
       "L 174.566522 25.30959 \n",
       "z\n",
       "\" style=\"fill: #32cd32\"/>\n",
       "   </g>\n",
       "   <g id=\"patch_5\">\n",
       "    <path d=\"M 260.101315 62.757407 \n",
       "C 251.6955 48.822044 239.829528 37.292473 225.658245 29.290799 \n",
       "C 211.486961 21.289126 195.485517 17.083639 179.211241 17.083636 \n",
       "L 179.211224 111.550329 \n",
       "L 260.101315 62.757407 \n",
       "z\n",
       "\" style=\"fill: #808080\"/>\n",
       "   </g>\n",
       "   <g id=\"text_1\">\n",
       "    <!-- Correct -->\n",
       "    <g transform=\"translate(86.979495 213.021145)scale(0.1 -0.1)\">\n",
       "     <defs>\n",
       "      <path id=\"DejaVuSans-43\" d=\"M 4122 4306 \n",
       "L 4122 3641 \n",
       "Q 3803 3938 3442 4084 \n",
       "Q 3081 4231 2675 4231 \n",
       "Q 1875 4231 1450 3742 \n",
       "Q 1025 3253 1025 2328 \n",
       "Q 1025 1406 1450 917 \n",
       "Q 1875 428 2675 428 \n",
       "Q 3081 428 3442 575 \n",
       "Q 3803 722 4122 1019 \n",
       "L 4122 359 \n",
       "Q 3791 134 3420 21 \n",
       "Q 3050 -91 2638 -91 \n",
       "Q 1578 -91 968 557 \n",
       "Q 359 1206 359 2328 \n",
       "Q 359 3453 968 4101 \n",
       "Q 1578 4750 2638 4750 \n",
       "Q 3056 4750 3426 4639 \n",
       "Q 3797 4528 4122 4306 \n",
       "z\n",
       "\" transform=\"scale(0.015625)\"/>\n",
       "      <path id=\"DejaVuSans-6f\" d=\"M 1959 3097 \n",
       "Q 1497 3097 1228 2736 \n",
       "Q 959 2375 959 1747 \n",
       "Q 959 1119 1226 758 \n",
       "Q 1494 397 1959 397 \n",
       "Q 2419 397 2687 759 \n",
       "Q 2956 1122 2956 1747 \n",
       "Q 2956 2369 2687 2733 \n",
       "Q 2419 3097 1959 3097 \n",
       "z\n",
       "M 1959 3584 \n",
       "Q 2709 3584 3137 3096 \n",
       "Q 3566 2609 3566 1747 \n",
       "Q 3566 888 3137 398 \n",
       "Q 2709 -91 1959 -91 \n",
       "Q 1206 -91 779 398 \n",
       "Q 353 888 353 1747 \n",
       "Q 353 2609 779 3096 \n",
       "Q 1206 3584 1959 3584 \n",
       "z\n",
       "\" transform=\"scale(0.015625)\"/>\n",
       "      <path id=\"DejaVuSans-72\" d=\"M 2631 2963 \n",
       "Q 2534 3019 2420 3045 \n",
       "Q 2306 3072 2169 3072 \n",
       "Q 1681 3072 1420 2755 \n",
       "Q 1159 2438 1159 1844 \n",
       "L 1159 0 \n",
       "L 581 0 \n",
       "L 581 3500 \n",
       "L 1159 3500 \n",
       "L 1159 2956 \n",
       "Q 1341 3275 1631 3429 \n",
       "Q 1922 3584 2338 3584 \n",
       "Q 2397 3584 2469 3576 \n",
       "Q 2541 3569 2628 3553 \n",
       "L 2631 2963 \n",
       "z\n",
       "\" transform=\"scale(0.015625)\"/>\n",
       "      <path id=\"DejaVuSans-65\" d=\"M 3597 1894 \n",
       "L 3597 1613 \n",
       "L 953 1613 \n",
       "Q 991 1019 1311 708 \n",
       "Q 1631 397 2203 397 \n",
       "Q 2534 397 2845 478 \n",
       "Q 3156 559 3463 722 \n",
       "L 3463 178 \n",
       "Q 3153 47 2828 -22 \n",
       "Q 2503 -91 2169 -91 \n",
       "Q 1331 -91 842 396 \n",
       "Q 353 884 353 1716 \n",
       "Q 353 2575 817 3079 \n",
       "Q 1281 3584 2069 3584 \n",
       "Q 2775 3584 3186 3129 \n",
       "Q 3597 2675 3597 1894 \n",
       "z\n",
       "M 3022 2063 \n",
       "Q 3016 2534 2758 2815 \n",
       "Q 2500 3097 2075 3097 \n",
       "Q 1594 3097 1305 2825 \n",
       "Q 1016 2553 972 2059 \n",
       "L 3022 2063 \n",
       "z\n",
       "\" transform=\"scale(0.015625)\"/>\n",
       "      <path id=\"DejaVuSans-63\" d=\"M 3122 3366 \n",
       "L 3122 2828 \n",
       "Q 2878 2963 2633 3030 \n",
       "Q 2388 3097 2138 3097 \n",
       "Q 1578 3097 1268 2742 \n",
       "Q 959 2388 959 1747 \n",
       "Q 959 1106 1268 751 \n",
       "Q 1578 397 2138 397 \n",
       "Q 2388 397 2633 464 \n",
       "Q 2878 531 3122 666 \n",
       "L 3122 134 \n",
       "Q 2881 22 2623 -34 \n",
       "Q 2366 -91 2075 -91 \n",
       "Q 1284 -91 818 406 \n",
       "Q 353 903 353 1747 \n",
       "Q 353 2603 823 3093 \n",
       "Q 1294 3584 2113 3584 \n",
       "Q 2378 3584 2631 3529 \n",
       "Q 2884 3475 3122 3366 \n",
       "z\n",
       "\" transform=\"scale(0.015625)\"/>\n",
       "      <path id=\"DejaVuSans-74\" d=\"M 1172 4494 \n",
       "L 1172 3500 \n",
       "L 2356 3500 \n",
       "L 2356 3053 \n",
       "L 1172 3053 \n",
       "L 1172 1153 \n",
       "Q 1172 725 1289 603 \n",
       "Q 1406 481 1766 481 \n",
       "L 2356 481 \n",
       "L 2356 0 \n",
       "L 1766 0 \n",
       "Q 1100 0 847 248 \n",
       "Q 594 497 594 1153 \n",
       "L 594 3053 \n",
       "L 172 3053 \n",
       "L 172 3500 \n",
       "L 594 3500 \n",
       "L 594 4494 \n",
       "L 1172 4494 \n",
       "z\n",
       "\" transform=\"scale(0.015625)\"/>\n",
       "     </defs>\n",
       "     <use xlink:href=\"#DejaVuSans-43\"/>\n",
       "     <use xlink:href=\"#DejaVuSans-6f\" x=\"69.824219\"/>\n",
       "     <use xlink:href=\"#DejaVuSans-72\" x=\"131.005859\"/>\n",
       "     <use xlink:href=\"#DejaVuSans-72\" x=\"170.369141\"/>\n",
       "     <use xlink:href=\"#DejaVuSans-65\" x=\"209.232422\"/>\n",
       "     <use xlink:href=\"#DejaVuSans-63\" x=\"270.755859\"/>\n",
       "     <use xlink:href=\"#DejaVuSans-74\" x=\"325.736328\"/>\n",
       "    </g>\n",
       "   </g>\n",
       "   <g id=\"text_2\">\n",
       "    <!-- 83.6% -->\n",
       "    <g transform=\"translate(130.814721 171.891378)scale(0.1 -0.1)\">\n",
       "     <defs>\n",
       "      <path id=\"DejaVuSans-38\" d=\"M 2034 2216 \n",
       "Q 1584 2216 1326 1975 \n",
       "Q 1069 1734 1069 1313 \n",
       "Q 1069 891 1326 650 \n",
       "Q 1584 409 2034 409 \n",
       "Q 2484 409 2743 651 \n",
       "Q 3003 894 3003 1313 \n",
       "Q 3003 1734 2745 1975 \n",
       "Q 2488 2216 2034 2216 \n",
       "z\n",
       "M 1403 2484 \n",
       "Q 997 2584 770 2862 \n",
       "Q 544 3141 544 3541 \n",
       "Q 544 4100 942 4425 \n",
       "Q 1341 4750 2034 4750 \n",
       "Q 2731 4750 3128 4425 \n",
       "Q 3525 4100 3525 3541 \n",
       "Q 3525 3141 3298 2862 \n",
       "Q 3072 2584 2669 2484 \n",
       "Q 3125 2378 3379 2068 \n",
       "Q 3634 1759 3634 1313 \n",
       "Q 3634 634 3220 271 \n",
       "Q 2806 -91 2034 -91 \n",
       "Q 1263 -91 848 271 \n",
       "Q 434 634 434 1313 \n",
       "Q 434 1759 690 2068 \n",
       "Q 947 2378 1403 2484 \n",
       "z\n",
       "M 1172 3481 \n",
       "Q 1172 3119 1398 2916 \n",
       "Q 1625 2713 2034 2713 \n",
       "Q 2441 2713 2670 2916 \n",
       "Q 2900 3119 2900 3481 \n",
       "Q 2900 3844 2670 4047 \n",
       "Q 2441 4250 2034 4250 \n",
       "Q 1625 4250 1398 4047 \n",
       "Q 1172 3844 1172 3481 \n",
       "z\n",
       "\" transform=\"scale(0.015625)\"/>\n",
       "      <path id=\"DejaVuSans-33\" d=\"M 2597 2516 \n",
       "Q 3050 2419 3304 2112 \n",
       "Q 3559 1806 3559 1356 \n",
       "Q 3559 666 3084 287 \n",
       "Q 2609 -91 1734 -91 \n",
       "Q 1441 -91 1130 -33 \n",
       "Q 819 25 488 141 \n",
       "L 488 750 \n",
       "Q 750 597 1062 519 \n",
       "Q 1375 441 1716 441 \n",
       "Q 2309 441 2620 675 \n",
       "Q 2931 909 2931 1356 \n",
       "Q 2931 1769 2642 2001 \n",
       "Q 2353 2234 1838 2234 \n",
       "L 1294 2234 \n",
       "L 1294 2753 \n",
       "L 1863 2753 \n",
       "Q 2328 2753 2575 2939 \n",
       "Q 2822 3125 2822 3475 \n",
       "Q 2822 3834 2567 4026 \n",
       "Q 2313 4219 1838 4219 \n",
       "Q 1578 4219 1281 4162 \n",
       "Q 984 4106 628 3988 \n",
       "L 628 4550 \n",
       "Q 988 4650 1302 4700 \n",
       "Q 1616 4750 1894 4750 \n",
       "Q 2613 4750 3031 4423 \n",
       "Q 3450 4097 3450 3541 \n",
       "Q 3450 3153 3228 2886 \n",
       "Q 3006 2619 2597 2516 \n",
       "z\n",
       "\" transform=\"scale(0.015625)\"/>\n",
       "      <path id=\"DejaVuSans-2e\" d=\"M 684 794 \n",
       "L 1344 794 \n",
       "L 1344 0 \n",
       "L 684 0 \n",
       "L 684 794 \n",
       "z\n",
       "\" transform=\"scale(0.015625)\"/>\n",
       "      <path id=\"DejaVuSans-36\" d=\"M 2113 2584 \n",
       "Q 1688 2584 1439 2293 \n",
       "Q 1191 2003 1191 1497 \n",
       "Q 1191 994 1439 701 \n",
       "Q 1688 409 2113 409 \n",
       "Q 2538 409 2786 701 \n",
       "Q 3034 994 3034 1497 \n",
       "Q 3034 2003 2786 2293 \n",
       "Q 2538 2584 2113 2584 \n",
       "z\n",
       "M 3366 4563 \n",
       "L 3366 3988 \n",
       "Q 3128 4100 2886 4159 \n",
       "Q 2644 4219 2406 4219 \n",
       "Q 1781 4219 1451 3797 \n",
       "Q 1122 3375 1075 2522 \n",
       "Q 1259 2794 1537 2939 \n",
       "Q 1816 3084 2150 3084 \n",
       "Q 2853 3084 3261 2657 \n",
       "Q 3669 2231 3669 1497 \n",
       "Q 3669 778 3244 343 \n",
       "Q 2819 -91 2113 -91 \n",
       "Q 1303 -91 875 529 \n",
       "Q 447 1150 447 2328 \n",
       "Q 447 3434 972 4092 \n",
       "Q 1497 4750 2381 4750 \n",
       "Q 2619 4750 2861 4703 \n",
       "Q 3103 4656 3366 4563 \n",
       "z\n",
       "\" transform=\"scale(0.015625)\"/>\n",
       "      <path id=\"DejaVuSans-25\" d=\"M 4653 2053 \n",
       "Q 4381 2053 4226 1822 \n",
       "Q 4072 1591 4072 1178 \n",
       "Q 4072 772 4226 539 \n",
       "Q 4381 306 4653 306 \n",
       "Q 4919 306 5073 539 \n",
       "Q 5228 772 5228 1178 \n",
       "Q 5228 1588 5073 1820 \n",
       "Q 4919 2053 4653 2053 \n",
       "z\n",
       "M 4653 2450 \n",
       "Q 5147 2450 5437 2106 \n",
       "Q 5728 1763 5728 1178 \n",
       "Q 5728 594 5436 251 \n",
       "Q 5144 -91 4653 -91 \n",
       "Q 4153 -91 3862 251 \n",
       "Q 3572 594 3572 1178 \n",
       "Q 3572 1766 3864 2108 \n",
       "Q 4156 2450 4653 2450 \n",
       "z\n",
       "M 1428 4353 \n",
       "Q 1159 4353 1004 4120 \n",
       "Q 850 3888 850 3481 \n",
       "Q 850 3069 1003 2837 \n",
       "Q 1156 2606 1428 2606 \n",
       "Q 1700 2606 1854 2837 \n",
       "Q 2009 3069 2009 3481 \n",
       "Q 2009 3884 1853 4118 \n",
       "Q 1697 4353 1428 4353 \n",
       "z\n",
       "M 4250 4750 \n",
       "L 4750 4750 \n",
       "L 1831 -91 \n",
       "L 1331 -91 \n",
       "L 4250 4750 \n",
       "z\n",
       "M 1428 4750 \n",
       "Q 1922 4750 2215 4408 \n",
       "Q 2509 4066 2509 3481 \n",
       "Q 2509 2891 2217 2550 \n",
       "Q 1925 2209 1428 2209 \n",
       "Q 931 2209 642 2551 \n",
       "Q 353 2894 353 3481 \n",
       "Q 353 4063 643 4406 \n",
       "Q 934 4750 1428 4750 \n",
       "z\n",
       "\" transform=\"scale(0.015625)\"/>\n",
       "     </defs>\n",
       "     <use xlink:href=\"#DejaVuSans-38\"/>\n",
       "     <use xlink:href=\"#DejaVuSans-33\" x=\"63.623047\"/>\n",
       "     <use xlink:href=\"#DejaVuSans-2e\" x=\"127.246094\"/>\n",
       "     <use xlink:href=\"#DejaVuSans-36\" x=\"159.033203\"/>\n",
       "     <use xlink:href=\"#DejaVuSans-25\" x=\"222.65625\"/>\n",
       "    </g>\n",
       "   </g>\n",
       "   <g id=\"text_3\">\n",
       "    <!-- Incorrect -->\n",
       "    <g transform=\"translate(230.302947 23.824221)scale(0.1 -0.1)\">\n",
       "     <defs>\n",
       "      <path id=\"DejaVuSans-49\" d=\"M 628 4666 \n",
       "L 1259 4666 \n",
       "L 1259 0 \n",
       "L 628 0 \n",
       "L 628 4666 \n",
       "z\n",
       "\" transform=\"scale(0.015625)\"/>\n",
       "      <path id=\"DejaVuSans-6e\" d=\"M 3513 2113 \n",
       "L 3513 0 \n",
       "L 2938 0 \n",
       "L 2938 2094 \n",
       "Q 2938 2591 2744 2837 \n",
       "Q 2550 3084 2163 3084 \n",
       "Q 1697 3084 1428 2787 \n",
       "Q 1159 2491 1159 1978 \n",
       "L 1159 0 \n",
       "L 581 0 \n",
       "L 581 3500 \n",
       "L 1159 3500 \n",
       "L 1159 2956 \n",
       "Q 1366 3272 1645 3428 \n",
       "Q 1925 3584 2291 3584 \n",
       "Q 2894 3584 3203 3211 \n",
       "Q 3513 2838 3513 2113 \n",
       "z\n",
       "\" transform=\"scale(0.015625)\"/>\n",
       "     </defs>\n",
       "     <use xlink:href=\"#DejaVuSans-49\"/>\n",
       "     <use xlink:href=\"#DejaVuSans-6e\" x=\"29.492188\"/>\n",
       "     <use xlink:href=\"#DejaVuSans-63\" x=\"92.871094\"/>\n",
       "     <use xlink:href=\"#DejaVuSans-6f\" x=\"147.851562\"/>\n",
       "     <use xlink:href=\"#DejaVuSans-72\" x=\"209.033203\"/>\n",
       "     <use xlink:href=\"#DejaVuSans-72\" x=\"248.396484\"/>\n",
       "     <use xlink:href=\"#DejaVuSans-65\" x=\"287.259766\"/>\n",
       "     <use xlink:href=\"#DejaVuSans-63\" x=\"348.783203\"/>\n",
       "     <use xlink:href=\"#DejaVuSans-74\" x=\"403.763672\"/>\n",
       "    </g>\n",
       "   </g>\n",
       "   <g id=\"text_4\">\n",
       "    <!-- 16.4% -->\n",
       "    <g transform=\"translate(191.195843 64.953986)scale(0.1 -0.1)\">\n",
       "     <defs>\n",
       "      <path id=\"DejaVuSans-31\" d=\"M 794 531 \n",
       "L 1825 531 \n",
       "L 1825 4091 \n",
       "L 703 3866 \n",
       "L 703 4441 \n",
       "L 1819 4666 \n",
       "L 2450 4666 \n",
       "L 2450 531 \n",
       "L 3481 531 \n",
       "L 3481 0 \n",
       "L 794 0 \n",
       "L 794 531 \n",
       "z\n",
       "\" transform=\"scale(0.015625)\"/>\n",
       "      <path id=\"DejaVuSans-34\" d=\"M 2419 4116 \n",
       "L 825 1625 \n",
       "L 2419 1625 \n",
       "L 2419 4116 \n",
       "z\n",
       "M 2253 4666 \n",
       "L 3047 4666 \n",
       "L 3047 1625 \n",
       "L 3713 1625 \n",
       "L 3713 1100 \n",
       "L 3047 1100 \n",
       "L 3047 0 \n",
       "L 2419 0 \n",
       "L 2419 1100 \n",
       "L 313 1100 \n",
       "L 313 1709 \n",
       "L 2253 4666 \n",
       "z\n",
       "\" transform=\"scale(0.015625)\"/>\n",
       "     </defs>\n",
       "     <use xlink:href=\"#DejaVuSans-31\"/>\n",
       "     <use xlink:href=\"#DejaVuSans-36\" x=\"63.623047\"/>\n",
       "     <use xlink:href=\"#DejaVuSans-2e\" x=\"127.246094\"/>\n",
       "     <use xlink:href=\"#DejaVuSans-34\" x=\"159.033203\"/>\n",
       "     <use xlink:href=\"#DejaVuSans-25\" x=\"222.65625\"/>\n",
       "    </g>\n",
       "   </g>\n",
       "  </g>\n",
       " </g>\n",
       "</svg>\n"
      ],
      "text/plain": [
       "<Figure size 432x288 with 1 Axes>"
      ]
     },
     "metadata": {},
     "output_type": "display_data"
    }
   ],
   "source": [
    "display(fig1)"
   ]
  },
  {
   "cell_type": "code",
   "execution_count": null,
   "id": "12fee896-2f0f-45d1-8a16-c19394ac217d",
   "metadata": {
    "extensions": {
     "jupyter_dashboards": {
      "activeView": "grid_default",
      "views": {
       "grid_default": {
        "col": null,
        "height": 2,
        "hidden": true,
        "row": null,
        "width": 2
       }
      }
     }
    }
   },
   "outputs": [],
   "source": []
  }
 ],
 "metadata": {
  "extensions": {
   "jupyter_dashboards": {
    "activeView": "grid_default",
    "version": 1,
    "views": {
     "grid_default": {
      "cellMargin": 2,
      "defaultCellHeight": 40,
      "maxColumns": 12,
      "name": "grid",
      "type": "grid"
     }
    }
   }
  },
  "kernelspec": {
   "display_name": "Python [conda env:Auto_Grader_env] *",
   "language": "python",
   "name": "conda-env-Auto_Grader_env-py"
  },
  "language_info": {
   "codemirror_mode": {
    "name": "ipython",
    "version": 3
   },
   "file_extension": ".py",
   "mimetype": "text/x-python",
   "name": "python",
   "nbconvert_exporter": "python",
   "pygments_lexer": "ipython3",
   "version": "3.9.7"
  }
 },
 "nbformat": 4,
 "nbformat_minor": 5
}
