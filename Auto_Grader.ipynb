{
 "cells": [
  {
   "cell_type": "code",
   "execution_count": 1,
   "id": "6475b32c-eeb4-460b-8e58-4f0d265d4706",
   "metadata": {
    "tags": []
   },
   "outputs": [],
   "source": [
    "import pandas\n",
    "import numpy as np\n",
    "import matplotlib.pyplot as plt\n",
    "plt.style.use('ggplot')"
   ]
  },
  {
   "cell_type": "code",
   "execution_count": 2,
   "id": "bfee8fc7-fff6-47fd-a0f7-f74ad0c172e0",
   "metadata": {
    "tags": []
   },
   "outputs": [
    {
     "data": {
      "text/html": [
       "<div>\n",
       "<style scoped>\n",
       "    .dataframe tbody tr th:only-of-type {\n",
       "        vertical-align: middle;\n",
       "    }\n",
       "\n",
       "    .dataframe tbody tr th {\n",
       "        vertical-align: top;\n",
       "    }\n",
       "\n",
       "    .dataframe thead th {\n",
       "        text-align: right;\n",
       "    }\n",
       "</style>\n",
       "<table border=\"1\" class=\"dataframe\">\n",
       "  <thead>\n",
       "    <tr style=\"text-align: right;\">\n",
       "      <th></th>\n",
       "      <th>essay id</th>\n",
       "      <th>misspelled words</th>\n",
       "      <th>words</th>\n",
       "      <th>words per sentence</th>\n",
       "      <th>lexical diversity</th>\n",
       "      <th>raw score</th>\n",
       "      <th>normalized score</th>\n",
       "    </tr>\n",
       "  </thead>\n",
       "  <tbody>\n",
       "    <tr>\n",
       "      <th>0</th>\n",
       "      <td>5979</td>\n",
       "      <td>15</td>\n",
       "      <td>130</td>\n",
       "      <td>10.833333</td>\n",
       "      <td>0.600000</td>\n",
       "      <td>2</td>\n",
       "      <td>1</td>\n",
       "    </tr>\n",
       "    <tr>\n",
       "      <th>1</th>\n",
       "      <td>5980</td>\n",
       "      <td>4</td>\n",
       "      <td>62</td>\n",
       "      <td>7.750000</td>\n",
       "      <td>0.774194</td>\n",
       "      <td>1</td>\n",
       "      <td>0</td>\n",
       "    </tr>\n",
       "    <tr>\n",
       "      <th>2</th>\n",
       "      <td>5981</td>\n",
       "      <td>7</td>\n",
       "      <td>42</td>\n",
       "      <td>14.000000</td>\n",
       "      <td>0.952381</td>\n",
       "      <td>1</td>\n",
       "      <td>0</td>\n",
       "    </tr>\n",
       "    <tr>\n",
       "      <th>3</th>\n",
       "      <td>5982</td>\n",
       "      <td>11</td>\n",
       "      <td>70</td>\n",
       "      <td>23.333333</td>\n",
       "      <td>0.685714</td>\n",
       "      <td>2</td>\n",
       "      <td>1</td>\n",
       "    </tr>\n",
       "    <tr>\n",
       "      <th>4</th>\n",
       "      <td>5983</td>\n",
       "      <td>4</td>\n",
       "      <td>43</td>\n",
       "      <td>14.333333</td>\n",
       "      <td>0.790698</td>\n",
       "      <td>1</td>\n",
       "      <td>0</td>\n",
       "    </tr>\n",
       "  </tbody>\n",
       "</table>\n",
       "</div>"
      ],
      "text/plain": [
       "   essay id  misspelled words  words  words per sentence  lexical diversity  \\\n",
       "0      5979                15    130           10.833333           0.600000   \n",
       "1      5980                 4     62            7.750000           0.774194   \n",
       "2      5981                 7     42           14.000000           0.952381   \n",
       "3      5982                11     70           23.333333           0.685714   \n",
       "4      5983                 4     43           14.333333           0.790698   \n",
       "\n",
       "   raw score  normalized score  \n",
       "0          2                 1  \n",
       "1          1                 0  \n",
       "2          1                 0  \n",
       "3          2                 1  \n",
       "4          1                 0  "
      ]
     },
     "execution_count": 2,
     "metadata": {},
     "output_type": "execute_result"
    }
   ],
   "source": [
    "df = pandas.read_csv('Dataset/training_data.csv', sep='\\t')\n",
    "\n",
    "df.head()"
   ]
  },
  {
   "cell_type": "code",
   "execution_count": 3,
   "id": "1ba3a792-d108-4531-ad9d-49c4285194ae",
   "metadata": {
    "tags": []
   },
   "outputs": [
    {
     "data": {
      "text/plain": [
       "(3495, 7)"
      ]
     },
     "execution_count": 3,
     "metadata": {},
     "output_type": "execute_result"
    }
   ],
   "source": [
    "df.shape"
   ]
  },
  {
   "cell_type": "code",
   "execution_count": 4,
   "id": "dfa96531-7e73-4625-8c5b-554fa890c66d",
   "metadata": {},
   "outputs": [],
   "source": [
    "#transform the skewed distributions (misspelled words, words, and words per sentence) into uniform distributions\n",
    "uniform = np.log(df[['misspelled words', 'words', 'words per sentence']])"
   ]
  },
  {
   "cell_type": "code",
   "execution_count": 5,
   "id": "bfc798ab-7ed7-4b31-8e22-d5ec843333a7",
   "metadata": {},
   "outputs": [],
   "source": [
    "#add lexical diversity to the dataframe\n",
    "uniform.insert(3, 'lexical diversity', df['lexical diversity'], False)"
   ]
  },
  {
   "cell_type": "code",
   "execution_count": 6,
   "id": "057fa9ce-d761-42f0-a74e-d9f3b11c5616",
   "metadata": {},
   "outputs": [],
   "source": [
    "#replace non-numerical values in misspelled words with 0\n",
    "uniform['misspelled words'] = uniform['misspelled words'].replace([np.inf, -np.inf], 0)"
   ]
  },
  {
   "cell_type": "code",
   "execution_count": 7,
   "id": "a52104f0-f00f-47f1-ba3c-2255ce002261",
   "metadata": {
    "tags": []
   },
   "outputs": [],
   "source": [
    "X = uniform[['misspelled words', 'words', 'words per sentence', 'lexical diversity']].values\n",
    "y = df['normalized score'].values"
   ]
  },
  {
   "cell_type": "code",
   "execution_count": 8,
   "id": "e03ffef2-5e6e-4d95-afbe-a6dc0a20ec51",
   "metadata": {
    "tags": []
   },
   "outputs": [],
   "source": [
    "from sklearn.model_selection import train_test_split\n",
    "X_train,X_test,y_train,y_test = train_test_split(X,y,test_size=0.25,random_state=42, stratify=y)"
   ]
  },
  {
   "cell_type": "code",
   "execution_count": 9,
   "id": "a069307d-028f-45a4-adab-dda5f5bb49e2",
   "metadata": {
    "tags": []
   },
   "outputs": [],
   "source": [
    "from sklearn.neighbors import KNeighborsClassifier\n",
    "\n",
    "#Setup arrays to store training and test accuracies\n",
    "neighbors = np.arange(20,30)\n",
    "train_accuracy =np.empty(len(neighbors))\n",
    "test_accuracy = np.empty(len(neighbors))\n",
    "\n",
    "for i,k in enumerate(neighbors):\n",
    "    knn = KNeighborsClassifier(n_neighbors=k)\n",
    "    \n",
    "    #Fit the model\n",
    "    knn.fit(X_train, y_train)\n",
    "    \n",
    "    #Compute accuracy on the training set\n",
    "    train_accuracy[i] = knn.score(X_train, y_train)\n",
    "    \n",
    "    #Compute accuracy on the test set\n",
    "    test_accuracy[i] = knn.score(X_test, y_test) "
   ]
  },
  {
   "cell_type": "code",
   "execution_count": 10,
   "id": "5aee3d91-c6d8-4799-8c4c-7839c7319348",
   "metadata": {
    "tags": []
   },
   "outputs": [
    {
     "data": {
      "image/png": "[encoded data removed]",
      "text/plain": [
       "<Figure size 432x288 with 1 Axes>"
      ]
     },
     "metadata": {},
     "output_type": "display_data"
    }
   ],
   "source": [
    "#Generate plot\n",
    "plt.title('k-NN Varying number of neighbors')\n",
    "plt.plot(neighbors, test_accuracy, label='Testing Accuracy', color='Limegreen')\n",
    "plt.plot(neighbors, train_accuracy, label='Training accuracy', color='Gray')\n",
    "plt.legend()\n",
    "plt.xlabel('Number of neighbors')\n",
    "plt.ylabel('Accuracy')\n",
    "plt.show()"
   ]
  },
  {
   "cell_type": "code",
   "execution_count": 11,
   "id": "08d639b0-4588-45a0-b985-d37d4902ccda",
   "metadata": {
    "tags": []
   },
   "outputs": [],
   "source": [
    "#Setup a knn classifier with k neighbors\n",
    "knn = KNeighborsClassifier(n_neighbors=26)"
   ]
  },
  {
   "cell_type": "code",
   "execution_count": 12,
   "id": "c45ff4ce-bfe6-45eb-b484-f127a8955d23",
   "metadata": {
    "tags": []
   },
   "outputs": [
    {
     "data": {
      "text/plain": [
       "KNeighborsClassifier(n_neighbors=26)"
      ]
     },
     "execution_count": 12,
     "metadata": {},
     "output_type": "execute_result"
    }
   ],
   "source": [
    "#Fit the model\n",
    "knn.fit(X_train,y_train)"
   ]
  },
  {
   "cell_type": "code",
   "execution_count": 13,
   "id": "9e654624-0725-48c8-a23a-1361f0e85cd4",
   "metadata": {
    "tags": []
   },
   "outputs": [],
   "source": [
    "#Get accuracy\n",
    "accuracy_score = knn.score(X_test,y_test)\n",
    "inaccurate = 1 - accuracy_score"
   ]
  },
  {
   "cell_type": "code",
   "execution_count": 14,
   "id": "9ba9d856-b6e9-453c-a525-25e773ac4f4a",
   "metadata": {
    "tags": []
   },
   "outputs": [
    {
     "data": {
      "image/png": "[encoded data removed]",
      "text/plain": [
       "<Figure size 432x288 with 1 Axes>"
      ]
     },
     "metadata": {},
     "output_type": "display_data"
    }
   ],
   "source": [
    "# Pie chart, where the slices will be ordered and plotted counter-clockwise:\n",
    "labels = 'Correct', 'Incorrect'\n",
    "sizes = [accuracy_score, inaccurate]\n",
    "\n",
    "colors = ('Limegreen', 'Gray')\n",
    "explode = (0.1, 0)  # only \"explode\" the 1st slice (i.e. 'Correct')\n",
    "\n",
    "\n",
    "fig1, ax1 = plt.subplots()\n",
    "ax1.pie(sizes, explode=explode, labels=labels, autopct='%1.1f%%',\n",
    "        shadow=True, startangle=90, colors=colors)\n",
    "ax1.axis('equal')  # Equal aspect ratio ensures that pie is drawn as a circle.\n",
    "\n",
    "plt.title('Model Accuracy')\n",
    "\n",
    "plt.show()"
   ]
  },
  {
   "cell_type": "code",
   "execution_count": 15,
   "id": "dc93b998-f55c-48fc-93c2-c5464ebb63b5",
   "metadata": {
    "tags": []
   },
   "outputs": [],
   "source": [
    "#let us get the predictions using the classifier we had fit above\n",
    "y_pred = knn.predict(X_test)"
   ]
  },
  {
   "cell_type": "code",
   "execution_count": 16,
   "id": "03bf83c8-00e1-4bc5-9074-b5aad79ac33e",
   "metadata": {
    "tags": []
   },
   "outputs": [
    {
     "data": {
      "text/html": [
       "<div>\n",
       "<style scoped>\n",
       "    .dataframe tbody tr th:only-of-type {\n",
       "        vertical-align: middle;\n",
       "    }\n",
       "\n",
       "    .dataframe tbody tr th {\n",
       "        vertical-align: top;\n",
       "    }\n",
       "\n",
       "    .dataframe thead th {\n",
       "        text-align: right;\n",
       "    }\n",
       "</style>\n",
       "<table border=\"1\" class=\"dataframe\">\n",
       "  <thead>\n",
       "    <tr style=\"text-align: right;\">\n",
       "      <th>Predicted</th>\n",
       "      <th>0</th>\n",
       "      <th>1</th>\n",
       "      <th>All</th>\n",
       "    </tr>\n",
       "    <tr>\n",
       "      <th>True</th>\n",
       "      <th></th>\n",
       "      <th></th>\n",
       "      <th></th>\n",
       "    </tr>\n",
       "  </thead>\n",
       "  <tbody>\n",
       "    <tr>\n",
       "      <th>0</th>\n",
       "      <td>331</td>\n",
       "      <td>67</td>\n",
       "      <td>398</td>\n",
       "    </tr>\n",
       "    <tr>\n",
       "      <th>1</th>\n",
       "      <td>76</td>\n",
       "      <td>400</td>\n",
       "      <td>476</td>\n",
       "    </tr>\n",
       "    <tr>\n",
       "      <th>All</th>\n",
       "      <td>407</td>\n",
       "      <td>467</td>\n",
       "      <td>874</td>\n",
       "    </tr>\n",
       "  </tbody>\n",
       "</table>\n",
       "</div>"
      ],
      "text/plain": [
       "Predicted    0    1  All\n",
       "True                    \n",
       "0          331   67  398\n",
       "1           76  400  476\n",
       "All        407  467  874"
      ]
     },
     "execution_count": 16,
     "metadata": {},
     "output_type": "execute_result"
    }
   ],
   "source": [
    "pandas.crosstab(y_test, y_pred, rownames=['True'], colnames=['Predicted'], margins=True)"
   ]
  },
  {
   "cell_type": "code",
   "execution_count": 31,
   "id": "7373ed07-eb78-4868-a8db-93f5f4ca437f",
   "metadata": {},
   "outputs": [],
   "source": [
    "from nltk.tokenize import sent_tokenize, word_tokenize\n",
    "from nltk.corpus import stopwords\n",
    "#nltk.download()\n",
    "from spellchecker import SpellChecker\n",
    "import ipywidgets as widgets\n",
    "from IPython.display import display"
   ]
  },
  {
   "cell_type": "code",
   "execution_count": 40,
   "id": "7e865f0d-3109-4378-ba59-da951b8762de",
   "metadata": {},
   "outputs": [],
   "source": [
    "output = widgets.Output(layout={'border': '1px solid black'})"
   ]
  },
  {
   "cell_type": "code",
   "execution_count": 41,
   "id": "48db8a15-e56a-4652-8152-a74e9bc14543",
   "metadata": {},
   "outputs": [],
   "source": [
    "author = widgets.Text(\n",
    "    placeholder='author name',\n",
    "    description='Author Name:',\n",
    "    disabled=False\n",
    ")\n",
    "\n",
    "essay = widgets.Textarea(\n",
    "    placeholder='type OR copy/paste essay',\n",
    "    description='Essay:',\n",
    "    disabled=False\n",
    ")"
   ]
  },
  {
   "cell_type": "code",
   "execution_count": 43,
   "id": "9d68a0a6-77d7-4bd3-9463-07db01cf05e8",
   "metadata": {},
   "outputs": [
    {
     "data": {
      "application/vnd.jupyter.widget-view+json": {
       "model_id": "5f4f8c47681645088f0f63881547ba9e",
       "version_major": 2,
       "version_minor": 0
      },
      "text/plain": [
       "Output(layout=Layout(border='1px solid black'))"
      ]
     },
     "metadata": {},
     "output_type": "display_data"
    }
   ],
   "source": [
    "@output.capture(clear_output=False,wait=True)\n",
    "def on_submit_button(b):\n",
    "    if (len(author.value)==0) or (len(essay.value)==0):\n",
    "        print(\"Error: 'Author Name' AND/OR 'Essay' text is blank. Complete both fields to continue.\")\n",
    "        \n",
    "    else:\n",
    "        grade(essay.value)\n",
    "output"
   ]
  },
  {
   "cell_type": "code",
   "execution_count": 21,
   "id": "3d3a51f8-bb64-4d69-97a5-3c9a18fbcbd0",
   "metadata": {},
   "outputs": [],
   "source": [
    "submit_button = widgets.Button(\n",
    "    description='Submit',\n",
    "    disabled=False,\n",
    "    button_style='', # 'success', 'info', 'warning', 'danger' or ''\n",
    "    tooltip='Click me',\n",
    "    icon='check-circle' # (FontAwesome names without the `fa-` prefix)\n",
    ")\n",
    "\n",
    "submit_button.on_click(on_submit_button)"
   ]
  },
  {
   "cell_type": "code",
   "execution_count": 44,
   "id": "94b37588-063b-4619-87d0-e703696f66fb",
   "metadata": {},
   "outputs": [
    {
     "data": {
      "application/vnd.jupyter.widget-view+json": {
       "model_id": "5f4f8c47681645088f0f63881547ba9e",
       "version_major": 2,
       "version_minor": 0
      },
      "text/plain": [
       "Output(layout=Layout(border='1px solid black'))"
      ]
     },
     "metadata": {},
     "output_type": "display_data"
    }
   ],
   "source": [
    "@output.capture(clear_output=False,wait=True)\n",
    "def on_report_button(b):\n",
    "    print(\"Here's the report!\")\n",
    "output"
   ]
  },
  {
   "cell_type": "code",
   "execution_count": 45,
   "id": "4c42c247-4a6f-4ab4-9a8c-ea81e3a3c9fc",
   "metadata": {},
   "outputs": [],
   "source": [
    "report_button = widgets.Button(\n",
    "    description='Generate Report',\n",
    "    disabled=False,\n",
    "    button_style='', # 'success', 'info', 'warning', 'danger' or ''\n",
    "    tooltip='Click me',\n",
    "    icon='file-export' # (FontAwesome names without the `fa-` prefix)\n",
    ")\n",
    "\n",
    "report_button.on_click(on_report_button)"
   ]
  },
  {
   "cell_type": "code",
   "execution_count": 47,
   "id": "e4c7fa19-5015-40a6-8c5b-223b6958eb9b",
   "metadata": {},
   "outputs": [
    {
     "data": {
      "application/vnd.jupyter.widget-view+json": {
       "model_id": "5f4f8c47681645088f0f63881547ba9e",
       "version_major": 2,
       "version_minor": 0
      },
      "text/plain": [
       "Output(layout=Layout(border='1px solid black'))"
      ]
     },
     "metadata": {},
     "output_type": "display_data"
    }
   ],
   "source": [
    "@output.capture(clear_output=False,wait=True)\n",
    "def authenticate(username, password):\n",
    "    if (len(username)==0) or (len(password)==0):\n",
    "        print(\"Error: 'Username' AND/OR 'Password' is blank. Complete both fields to continue.\")\n",
    "        \n",
    "    else:\n",
    "        print(\"Welcome!\")\n",
    "        display(author)\n",
    "        display(essay)\n",
    "        display(submit_button)\n",
    "output"
   ]
  },
  {
   "cell_type": "code",
   "execution_count": 51,
   "id": "27af6dee-fd7d-471b-963b-5bc318134b52",
   "metadata": {},
   "outputs": [
    {
     "data": {
      "application/vnd.jupyter.widget-view+json": {
       "model_id": "53a4f57a519d4c7eae139a8e80ecdc5a",
       "version_major": 2,
       "version_minor": 0
      },
      "text/plain": [
       "Text(value='', description='Username:', placeholder='username')"
      ]
     },
     "metadata": {},
     "output_type": "display_data"
    },
    {
     "data": {
      "application/vnd.jupyter.widget-view+json": {
       "model_id": "457b7660abce4aeeac271d0024fe8209",
       "version_major": 2,
       "version_minor": 0
      },
      "text/plain": [
       "Password(description='Password:', placeholder='password')"
      ]
     },
     "metadata": {},
     "output_type": "display_data"
    }
   ],
   "source": [
    "username = widgets.Text(\n",
    "    placeholder='username',\n",
    "    description='Username:',\n",
    "    disabled=False\n",
    ")\n",
    "\n",
    "password = widgets.Password(\n",
    "    placeholder='password',\n",
    "    description='Password:',\n",
    "    disabled=False\n",
    ")\n",
    "\n",
    "display(username)\n",
    "display(password)"
   ]
  },
  {
   "cell_type": "code",
   "execution_count": 52,
   "id": "181c64a7-d5a0-4a67-bf30-ed803e533835",
   "metadata": {},
   "outputs": [],
   "source": [
    "def on_login_button(b):\n",
    "    authenticate(username.value, password.value)"
   ]
  },
  {
   "cell_type": "code",
   "execution_count": 53,
   "id": "77cad5e4-f6a5-4b82-b56c-67342d23ee62",
   "metadata": {},
   "outputs": [
    {
     "data": {
      "application/vnd.jupyter.widget-view+json": {
       "model_id": "a988c7ef33ca43daa2733a148e0baff5",
       "version_major": 2,
       "version_minor": 0
      },
      "text/plain": [
       "Button(description='Login', icon='sign-in-alt', style=ButtonStyle(), tooltip='Click me')"
      ]
     },
     "metadata": {},
     "output_type": "display_data"
    }
   ],
   "source": [
    "login_button = widgets.Button(\n",
    "    description='Login',\n",
    "    disabled=False,\n",
    "    button_style='', # 'success', 'info', 'warning', 'danger' or ''\n",
    "    tooltip='Click me',\n",
    "    icon='sign-in-alt' # (FontAwesome names without the `fa-` prefix)\n",
    ")\n",
    "\n",
    "login_button.on_click(on_login_button)\n",
    "display(login_button)"
   ]
  },
  {
   "cell_type": "code",
   "execution_count": 54,
   "id": "a0ca2f79-3e57-4c75-9f9e-994f59d5e25e",
   "metadata": {},
   "outputs": [],
   "source": [
    "def insert_score():\n",
    "    print(\"Score saved to database!\")\n",
    "    #\n",
    "    #\n",
    "    #\n",
    "    #\n",
    "    #"
   ]
  },
  {
   "cell_type": "code",
   "execution_count": 57,
   "id": "cdcead3e-f56a-4222-a131-02f6d1629878",
   "metadata": {
    "tags": []
   },
   "outputs": [
    {
     "data": {
      "application/vnd.jupyter.widget-view+json": {
       "model_id": "5f4f8c47681645088f0f63881547ba9e",
       "version_major": 2,
       "version_minor": 0
      },
      "text/plain": [
       "Output(layout=Layout(border='1px solid black'))"
      ]
     },
     "metadata": {},
     "output_type": "display_data"
    }
   ],
   "source": [
    "@output.capture(clear_output=False,wait=True)\n",
    "def grade(text):\n",
    "    \n",
    "    sentences = sent_tokenize(text)\n",
    "    words = word_tokenize(text)\n",
    "\n",
    "    spell = SpellChecker()\n",
    "    misspelled = spell.unknown(words)\n",
    "\n",
    "    ###FEATURE 1: MISSPELLED WORDS###\n",
    "    num_misspelled = len(misspelled)\n",
    "\n",
    "    stops = set(stopwords.words('english'))\n",
    "\n",
    "    filtered_words = []\n",
    "\n",
    "    for w in words:\n",
    "        if w in misspelled:\n",
    "            continue\n",
    "\n",
    "        if w not in stops:\n",
    "            filtered_words.append(w)\n",
    "\n",
    "    ###FEATURE 2: TOTAL WORDS###\n",
    "    total_words = len(filtered_words)\n",
    "\n",
    "    ###FEATURE 3: WORDS PER SENTENCE###\n",
    "    words_per_sentence = total_words / len(sentences)\n",
    "\n",
    "    unique_words = len(set(filtered_words))\n",
    "\n",
    "    ###FEATURE 4: LEXICAL DIVERSITY###\n",
    "    lexical_diversity = unique_words / total_words\n",
    "\n",
    "    features = [[num_misspelled, total_words, words_per_sentence, lexical_diversity]]\n",
    "\n",
    "    #Predicted Score\n",
    "    predicted_score = knn.predict(features)[0]\n",
    "    score_codes = ['FAIL', 'PASS']\n",
    "    \n",
    "    #Insert Score into Database\n",
    "    #insert_score()\n",
    "\n",
    "    print('Grade: ' + score_codes[predicted_score])\n",
    "\n",
    "    ###Wordcount###\n",
    "    rslt_df = df[df['normalized score'] == predicted_score]\n",
    "\n",
    "    mean_words = rslt_df['words'].mean()\n",
    "\n",
    "    x_labels = ['This Essay', 'Average Essay of a Similar Score']\n",
    "    word_vals = [total_words, mean_words]\n",
    "\n",
    "    x_pos = [i for i, _ in enumerate(x_labels)]\n",
    "\n",
    "    plt.bar(x_pos, word_vals, color=['Limegreen', 'Gray'])\n",
    "\n",
    "    plt.ylabel(\"Number of Words\")\n",
    "    plt.title(\"Wordcount\")\n",
    "    plt.xticks(x_pos, x_labels)\n",
    "\n",
    "    plt.show()\n",
    "\n",
    "    ###Misspellings###\n",
    "    rslt_df = df[df['normalized score'] == predicted_score]\n",
    "\n",
    "    mean_errors = rslt_df['misspelled words'].mean()\n",
    "\n",
    "    x_labels = ['This Essay', 'Average Essay of a Similar Score']\n",
    "    word_vals = [num_misspelled, mean_errors]\n",
    "\n",
    "    x_pos = [i for i, _ in enumerate(x_labels)]\n",
    "\n",
    "    plt.bar(x_pos, word_vals, color=['Limegreen', 'Gray'])\n",
    "\n",
    "    plt.ylabel(\"Number of Misspellings\")\n",
    "    plt.title(\"Misspellings\")\n",
    "    plt.xticks(x_pos, x_labels)\n",
    "    \n",
    "    plt.show()\n",
    "\n",
    "    ###Lexical Diversity###\n",
    "    rslt_df = df[df['normalized score'] == predicted_score]\n",
    "\n",
    "    mean_diversity = rslt_df['lexical diversity'].mean()\n",
    "\n",
    "    x_labels = ['This Essay', 'Average Essay of a Similar Score']\n",
    "    word_vals = [lexical_diversity, mean_diversity]\n",
    "\n",
    "    x_pos = [i for i, _ in enumerate(x_labels)]\n",
    "\n",
    "    plt.bar(x_pos, word_vals, color=['Limegreen', 'Gray'])\n",
    "\n",
    "    plt.ylabel(\"Ratio of Unique Words\")\n",
    "    plt.title(\"Lexical Diversity\")\n",
    "    plt.xticks(x_pos, x_labels)\n",
    "\n",
    "    plt.show()\n",
    "    \n",
    "    #Generate report\n",
    "    display(report_button)\n",
    "output"
   ]
  },
  {
   "cell_type": "code",
   "execution_count": null,
   "id": "684b756a-0755-49c3-bb5f-27c5035937c9",
   "metadata": {},
   "outputs": [],
   "source": []
  }
 ],
 "metadata": {
  "kernelspec": {
   "display_name": "Python [conda env:Auto_Grader_env] *",
   "language": "python",
   "name": "conda-env-Auto_Grader_env-py"
  },
  "language_info": {
   "codemirror_mode": {
    "name": "ipython",
    "version": 3
   },
   "file_extension": ".py",
   "mimetype": "text/x-python",
   "name": "python",
   "nbconvert_exporter": "python",
   "pygments_lexer": "ipython3",
   "version": "3.9.7"
  }
 },
 "nbformat": 4,
 "nbformat_minor": 5
}
